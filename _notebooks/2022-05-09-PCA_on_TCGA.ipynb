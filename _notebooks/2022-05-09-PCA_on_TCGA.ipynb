{
 "cells": [
  {
   "cell_type": "markdown",
   "id": "6c51c6a8",
   "metadata": {},
   "source": [
    "# \"TCGA samples comparison on PCA plots\"\n",
    "\n",
    ">\"Download GDC TCGA Bile Duct Cancer then run and plot PCA with draw_pca()\"\n",
    "\n",
    "- toc: false\n",
    "- branch: master\n",
    "- badges: true\n",
    "- comments: false\n",
    "- categories: [R, jupyter, PCA, ggplot, TCGA]\n",
    "- image: images/two_PCA.png\n",
    "- hide: false"
   ]
  },
  {
   "cell_type": "markdown",
   "id": "17d2037d",
   "metadata": {},
   "source": [
    "Inspired by one of the plots in this publication about urban/rural clovers, I was thinking if we can apply similar method to show some TCGA data, here is what I've tried:"
   ]
  },
  {
   "cell_type": "markdown",
   "id": "e1c032a5",
   "metadata": {},
   "source": [
    "First, download count and metadata from [UCSC Xena](https://xenabrowser.net/datapages/?cohort=GDC%20TCGA%20Bile%20Duct%20Cancer%20(CHOL)&removeHub=https%3A%2F%2Fxena.treehouse.gi.ucsc.edu%3A443):"
   ]
  },
  {
   "cell_type": "code",
   "execution_count": 4,
   "id": "bcaa0fa8",
   "metadata": {},
   "outputs": [],
   "source": [
    "proj <- \"TCGA-CHOL\"\n",
    "header <- \"https://gdc.xenahubs.net/download/\""
   ]
  },
  {
   "cell_type": "code",
   "execution_count": null,
   "id": "91077a71",
   "metadata": {},
   "outputs": [],
   "source": [
    "download.file(url = paste0(hearder ,proj, \".htseq_counts.tsv.gz\"),destfile = paste0(proj,\".htseq_counts.tsv.gz\"))\n",
    "download.file(url = paste0(hearder ,proj, \".GDC_phenotype.tsv.gz\"),destfile = paste0(proj,\".GDC_phenotype.tsv.gz\"))\n",
    "#download.file(url = paste0(hearder ,proj, \".survival.tsv\"),destfile = paste0(proj,\".survival.tsv\"))"
   ]
  },
  {
   "cell_type": "code",
   "execution_count": 5,
   "id": "e33bcd49",
   "metadata": {},
   "outputs": [],
   "source": [
    "phenotype <- read.delim(paste0(proj,\".GDC_phenotype.tsv.gz\"),fill = T,header = T,sep = \"\\t\")"
   ]
  },
  {
   "cell_type": "markdown",
   "id": "8f14d7cd",
   "metadata": {},
   "source": [
    "Take a look at phenotype data:"
   ]
  },
  {
   "cell_type": "code",
   "execution_count": 6,
   "id": "61ab483e",
   "metadata": {},
   "outputs": [
    {
     "data": {
      "text/html": [
       "<table class=\"dataframe\">\n",
       "<caption>A data.frame: 3 × 122</caption>\n",
       "<thead>\n",
       "\t<tr><th></th><th scope=col>submitter_id.samples</th><th scope=col>age_at_initial_pathologic_diagnosis</th><th scope=col>albumin_result_lower_limit</th><th scope=col>albumin_result_specified_value</th><th scope=col>albumin_result_upper_limit</th><th scope=col>batch_number</th><th scope=col>bcr</th><th scope=col>bcr_followup_barcode</th><th scope=col>bcr_followup_uuid</th><th scope=col>submitter_id</th><th scope=col>⋯</th><th scope=col>days_to_collection.samples</th><th scope=col>days_to_sample_procurement.samples</th><th scope=col>initial_weight.samples</th><th scope=col>is_ffpe.samples</th><th scope=col>oct_embedded.samples</th><th scope=col>preservation_method.samples</th><th scope=col>sample_type.samples</th><th scope=col>sample_type_id.samples</th><th scope=col>state.samples</th><th scope=col>tissue_type.samples</th></tr>\n",
       "\t<tr><th></th><th scope=col>&lt;chr&gt;</th><th scope=col>&lt;int&gt;</th><th scope=col>&lt;dbl&gt;</th><th scope=col>&lt;dbl&gt;</th><th scope=col>&lt;dbl&gt;</th><th scope=col>&lt;chr&gt;</th><th scope=col>&lt;chr&gt;</th><th scope=col>&lt;chr&gt;</th><th scope=col>&lt;chr&gt;</th><th scope=col>&lt;chr&gt;</th><th scope=col>⋯</th><th scope=col>&lt;dbl&gt;</th><th scope=col>&lt;lgl&gt;</th><th scope=col>&lt;dbl&gt;</th><th scope=col>&lt;chr&gt;</th><th scope=col>&lt;chr&gt;</th><th scope=col>&lt;lgl&gt;</th><th scope=col>&lt;chr&gt;</th><th scope=col>&lt;int&gt;</th><th scope=col>&lt;chr&gt;</th><th scope=col>&lt;chr&gt;</th></tr>\n",
       "</thead>\n",
       "<tbody>\n",
       "\t<tr><th scope=row>1</th><td>TCGA-ZH-A8Y2-01A</td><td>59</td><td> NA</td><td> NA</td><td>NA</td><td>428.25.0</td><td>Nationwide Children's Hospital</td><td></td><td></td><td>TCGA-ZH-A8Y2</td><td>⋯</td><td>897</td><td>NA</td><td> 400</td><td>False</td><td>false</td><td>NA</td><td>Primary Tumor</td><td>1</td><td>released</td><td>Not Reported</td></tr>\n",
       "\t<tr><th scope=row>2</th><td>TCGA-ZH-A8Y7-01A</td><td>59</td><td>3.5</td><td>2.4</td><td> 5</td><td>448.13.0</td><td>Nationwide Children's Hospital</td><td></td><td></td><td>TCGA-ZH-A8Y7</td><td>⋯</td><td> 77</td><td>NA</td><td>1100</td><td>False</td><td>false</td><td>NA</td><td>Primary Tumor</td><td>1</td><td>released</td><td>Not Reported</td></tr>\n",
       "\t<tr><th scope=row>3</th><td>TCGA-W7-A93O-01A</td><td>NA</td><td> NA</td><td> NA</td><td>NA</td><td>448.13.0</td><td>Nationwide Children's Hospital</td><td></td><td></td><td>TCGA-W7-A93O</td><td>⋯</td><td>465</td><td>NA</td><td> 180</td><td>False</td><td>true </td><td>NA</td><td>Primary Tumor</td><td>1</td><td>released</td><td>Not Reported</td></tr>\n",
       "</tbody>\n",
       "</table>\n"
      ],
      "text/latex": [
       "A data.frame: 3 × 122\n",
       "\\begin{tabular}{r|lllllllllllllllllllll}\n",
       "  & submitter\\_id.samples & age\\_at\\_initial\\_pathologic\\_diagnosis & albumin\\_result\\_lower\\_limit & albumin\\_result\\_specified\\_value & albumin\\_result\\_upper\\_limit & batch\\_number & bcr & bcr\\_followup\\_barcode & bcr\\_followup\\_uuid & submitter\\_id & ⋯ & days\\_to\\_collection.samples & days\\_to\\_sample\\_procurement.samples & initial\\_weight.samples & is\\_ffpe.samples & oct\\_embedded.samples & preservation\\_method.samples & sample\\_type.samples & sample\\_type\\_id.samples & state.samples & tissue\\_type.samples\\\\\n",
       "  & <chr> & <int> & <dbl> & <dbl> & <dbl> & <chr> & <chr> & <chr> & <chr> & <chr> & ⋯ & <dbl> & <lgl> & <dbl> & <chr> & <chr> & <lgl> & <chr> & <int> & <chr> & <chr>\\\\\n",
       "\\hline\n",
       "\t1 & TCGA-ZH-A8Y2-01A & 59 &  NA &  NA & NA & 428.25.0 & Nationwide Children's Hospital &  &  & TCGA-ZH-A8Y2 & ⋯ & 897 & NA &  400 & False & false & NA & Primary Tumor & 1 & released & Not Reported\\\\\n",
       "\t2 & TCGA-ZH-A8Y7-01A & 59 & 3.5 & 2.4 &  5 & 448.13.0 & Nationwide Children's Hospital &  &  & TCGA-ZH-A8Y7 & ⋯ &  77 & NA & 1100 & False & false & NA & Primary Tumor & 1 & released & Not Reported\\\\\n",
       "\t3 & TCGA-W7-A93O-01A & NA &  NA &  NA & NA & 448.13.0 & Nationwide Children's Hospital &  &  & TCGA-W7-A93O & ⋯ & 465 & NA &  180 & False & true  & NA & Primary Tumor & 1 & released & Not Reported\\\\\n",
       "\\end{tabular}\n"
      ],
      "text/markdown": [
       "\n",
       "A data.frame: 3 × 122\n",
       "\n",
       "| <!--/--> | submitter_id.samples &lt;chr&gt; | age_at_initial_pathologic_diagnosis &lt;int&gt; | albumin_result_lower_limit &lt;dbl&gt; | albumin_result_specified_value &lt;dbl&gt; | albumin_result_upper_limit &lt;dbl&gt; | batch_number &lt;chr&gt; | bcr &lt;chr&gt; | bcr_followup_barcode &lt;chr&gt; | bcr_followup_uuid &lt;chr&gt; | submitter_id &lt;chr&gt; | ⋯ ⋯ | days_to_collection.samples &lt;dbl&gt; | days_to_sample_procurement.samples &lt;lgl&gt; | initial_weight.samples &lt;dbl&gt; | is_ffpe.samples &lt;chr&gt; | oct_embedded.samples &lt;chr&gt; | preservation_method.samples &lt;lgl&gt; | sample_type.samples &lt;chr&gt; | sample_type_id.samples &lt;int&gt; | state.samples &lt;chr&gt; | tissue_type.samples &lt;chr&gt; |\n",
       "|---|---|---|---|---|---|---|---|---|---|---|---|---|---|---|---|---|---|---|---|---|---|\n",
       "| 1 | TCGA-ZH-A8Y2-01A | 59 |  NA |  NA | NA | 428.25.0 | Nationwide Children's Hospital | <!----> | <!----> | TCGA-ZH-A8Y2 | ⋯ | 897 | NA |  400 | False | false | NA | Primary Tumor | 1 | released | Not Reported |\n",
       "| 2 | TCGA-ZH-A8Y7-01A | 59 | 3.5 | 2.4 |  5 | 448.13.0 | Nationwide Children's Hospital | <!----> | <!----> | TCGA-ZH-A8Y7 | ⋯ |  77 | NA | 1100 | False | false | NA | Primary Tumor | 1 | released | Not Reported |\n",
       "| 3 | TCGA-W7-A93O-01A | NA |  NA |  NA | NA | 448.13.0 | Nationwide Children's Hospital | <!----> | <!----> | TCGA-W7-A93O | ⋯ | 465 | NA |  180 | False | true  | NA | Primary Tumor | 1 | released | Not Reported |\n",
       "\n"
      ],
      "text/plain": [
       "  submitter_id.samples age_at_initial_pathologic_diagnosis\n",
       "1 TCGA-ZH-A8Y2-01A     59                                 \n",
       "2 TCGA-ZH-A8Y7-01A     59                                 \n",
       "3 TCGA-W7-A93O-01A     NA                                 \n",
       "  albumin_result_lower_limit albumin_result_specified_value\n",
       "1  NA                         NA                           \n",
       "2 3.5                        2.4                           \n",
       "3  NA                         NA                           \n",
       "  albumin_result_upper_limit batch_number bcr                           \n",
       "1 NA                         428.25.0     Nationwide Children's Hospital\n",
       "2  5                         448.13.0     Nationwide Children's Hospital\n",
       "3 NA                         448.13.0     Nationwide Children's Hospital\n",
       "  bcr_followup_barcode bcr_followup_uuid submitter_id ⋯\n",
       "1                                        TCGA-ZH-A8Y2 ⋯\n",
       "2                                        TCGA-ZH-A8Y7 ⋯\n",
       "3                                        TCGA-W7-A93O ⋯\n",
       "  days_to_collection.samples days_to_sample_procurement.samples\n",
       "1 897                        NA                                \n",
       "2  77                        NA                                \n",
       "3 465                        NA                                \n",
       "  initial_weight.samples is_ffpe.samples oct_embedded.samples\n",
       "1  400                   False           false               \n",
       "2 1100                   False           false               \n",
       "3  180                   False           true                \n",
       "  preservation_method.samples sample_type.samples sample_type_id.samples\n",
       "1 NA                          Primary Tumor       1                     \n",
       "2 NA                          Primary Tumor       1                     \n",
       "3 NA                          Primary Tumor       1                     \n",
       "  state.samples tissue_type.samples\n",
       "1 released      Not Reported       \n",
       "2 released      Not Reported       \n",
       "3 released      Not Reported       "
      ]
     },
     "metadata": {},
     "output_type": "display_data"
    }
   ],
   "source": [
    "phenotype[1:3,]"
   ]
  },
  {
   "cell_type": "markdown",
   "id": "76554856",
   "metadata": {},
   "source": [
    "Load count matrix and convert it back from log"
   ]
  },
  {
   "cell_type": "code",
   "execution_count": 14,
   "id": "df8b56f3",
   "metadata": {},
   "outputs": [],
   "source": [
    "data <- read.table(paste0(proj,\".htseq_counts.tsv.gz\"),check.names = F,row.names = 1,header = T)\n",
    "data <- as.data.frame(2^dat - 1)\n",
    "count <- apply(dat, 2, as.integer)\n",
    "rownames(count) <- rownames(data)\n"
   ]
  },
  {
   "cell_type": "code",
   "execution_count": 15,
   "id": "de101356",
   "metadata": {},
   "outputs": [
    {
     "data": {
      "text/html": [
       "<table class=\"dataframe\">\n",
       "<caption>A matrix: 4 × 4 of type int</caption>\n",
       "<thead>\n",
       "\t<tr><th></th><th scope=col>TCGA-ZD-A8I3-01A</th><th scope=col>TCGA-W5-AA2U-11A</th><th scope=col>TCGA-W5-AA30-01A</th><th scope=col>TCGA-W5-AA38-01A</th></tr>\n",
       "</thead>\n",
       "<tbody>\n",
       "\t<tr><th scope=row>ENSG00000000003.13</th><td>5254</td><td>2476</td><td>5132</td><td>8249</td></tr>\n",
       "\t<tr><th scope=row>ENSG00000000005.5</th><td>   1</td><td>   1</td><td>   0</td><td>   1</td></tr>\n",
       "\t<tr><th scope=row>ENSG00000000419.11</th><td>1211</td><td> 655</td><td>1643</td><td>1695</td></tr>\n",
       "\t<tr><th scope=row>ENSG00000000457.12</th><td> 752</td><td> 345</td><td>2652</td><td> 519</td></tr>\n",
       "</tbody>\n",
       "</table>\n"
      ],
      "text/latex": [
       "A matrix: 4 × 4 of type int\n",
       "\\begin{tabular}{r|llll}\n",
       "  & TCGA-ZD-A8I3-01A & TCGA-W5-AA2U-11A & TCGA-W5-AA30-01A & TCGA-W5-AA38-01A\\\\\n",
       "\\hline\n",
       "\tENSG00000000003.13 & 5254 & 2476 & 5132 & 8249\\\\\n",
       "\tENSG00000000005.5 &    1 &    1 &    0 &    1\\\\\n",
       "\tENSG00000000419.11 & 1211 &  655 & 1643 & 1695\\\\\n",
       "\tENSG00000000457.12 &  752 &  345 & 2652 &  519\\\\\n",
       "\\end{tabular}\n"
      ],
      "text/markdown": [
       "\n",
       "A matrix: 4 × 4 of type int\n",
       "\n",
       "| <!--/--> | TCGA-ZD-A8I3-01A | TCGA-W5-AA2U-11A | TCGA-W5-AA30-01A | TCGA-W5-AA38-01A |\n",
       "|---|---|---|---|---|\n",
       "| ENSG00000000003.13 | 5254 | 2476 | 5132 | 8249 |\n",
       "| ENSG00000000005.5 |    1 |    1 |    0 |    1 |\n",
       "| ENSG00000000419.11 | 1211 |  655 | 1643 | 1695 |\n",
       "| ENSG00000000457.12 |  752 |  345 | 2652 |  519 |\n",
       "\n"
      ],
      "text/plain": [
       "                   TCGA-ZD-A8I3-01A TCGA-W5-AA2U-11A TCGA-W5-AA30-01A\n",
       "ENSG00000000003.13 5254             2476             5132            \n",
       "ENSG00000000005.5     1                1                0            \n",
       "ENSG00000000419.11 1211              655             1643            \n",
       "ENSG00000000457.12  752              345             2652            \n",
       "                   TCGA-W5-AA38-01A\n",
       "ENSG00000000003.13 8249            \n",
       "ENSG00000000005.5     1            \n",
       "ENSG00000000419.11 1695            \n",
       "ENSG00000000457.12  519            "
      ]
     },
     "metadata": {},
     "output_type": "display_data"
    }
   ],
   "source": [
    "count[1:4,1:4]"
   ]
  },
  {
   "cell_type": "markdown",
   "id": "5b4ac980",
   "metadata": {},
   "source": [
    "Then Filter out genes of which less than half samples have expression:"
   ]
  },
  {
   "cell_type": "code",
   "execution_count": 17,
   "id": "824c2b37",
   "metadata": {},
   "outputs": [
    {
     "data": {
      "text/html": [
       "45"
      ],
      "text/latex": [
       "45"
      ],
      "text/markdown": [
       "45"
      ],
      "text/plain": [
       "[1] 45"
      ]
     },
     "metadata": {},
     "output_type": "display_data"
    }
   ],
   "source": [
    "n_sample <- ncol(count)\n",
    "n_sample\n",
    "count = count[apply(count, 1, function(x) sum(x > 0) > 0.5*n_sample), ]"
   ]
  },
  {
   "cell_type": "markdown",
   "id": "8f3ae0c5",
   "metadata": {},
   "source": [
    "In sample Id we can extract its group info by checking the last 3 chars, like in TCGA-ZH-A8Y2-01A, 01A is tumor:"
   ]
  },
  {
   "cell_type": "code",
   "execution_count": 19,
   "id": "3e070f86",
   "metadata": {},
   "outputs": [],
   "source": [
    "library(stringr)"
   ]
  },
  {
   "cell_type": "code",
   "execution_count": 20,
   "id": "8b899aeb",
   "metadata": {},
   "outputs": [
    {
     "data": {
      "text/plain": [
       "Group\n",
       "normal  tumor \n",
       "     9     36 "
      ]
     },
     "metadata": {},
     "output_type": "display_data"
    }
   ],
   "source": [
    "Group = ifelse(as.numeric(str_sub(colnames(count),14,15)) < 10,'tumor','normal')\n",
    "Group = factor(Group,levels = c(\"normal\",\"tumor\"))\n",
    "table(Group)\n"
   ]
  },
  {
   "cell_type": "markdown",
   "id": "45760bd5",
   "metadata": {},
   "source": [
    "Normally we can use DESeq2, edgeR, or limma to move on to differential expression analysis, here we would jump over it for now and do PCA first."
   ]
  },
  {
   "cell_type": "code",
   "execution_count": null,
   "id": "6f6ecf9e",
   "metadata": {},
   "outputs": [],
   "source": [
    "library(ggplot2)\n",
    "library(tinyarray)"
   ]
  },
  {
   "cell_type": "code",
   "execution_count": 22,
   "id": "31e3f53d",
   "metadata": {},
   "outputs": [
    {
     "data": {
      "image/png": "[encoded data removed]",
      "text/plain": [
       "plot without title"
      ]
     },
     "metadata": {
      "image/png": {
       "height": 420,
       "width": 420
      }
     },
     "output_type": "display_data"
    }
   ],
   "source": [
    "#data = log2(cpm(exp)+1)\n",
    "pca.plot = draw_pca(count,Group);pca.plot"
   ]
  },
  {
   "cell_type": "markdown",
   "id": "9fbe88b8",
   "metadata": {},
   "source": [
    "Here it's clear that tumor and normal samples group in their own clusters, and we have CI as ovals surround each of them. Tumor cluster is larger and one of the cause could be heterogenesis; but before that we would noticed that tumor group has more samples than normal group. Next I'm going to look at those samples that can be paired."
   ]
  },
  {
   "cell_type": "code",
   "execution_count": null,
   "id": "dbba972d",
   "metadata": {},
   "outputs": [],
   "source": []
  }
 ],
 "metadata": {
  "kernelspec": {
   "display_name": "R",
   "language": "R",
   "name": "ir"
  },
  "language_info": {
   "codemirror_mode": "r",
   "file_extension": ".r",
   "mimetype": "text/x-r-source",
   "name": "R",
   "pygments_lexer": "r",
   "version": "4.1.2"
  }
 },
 "nbformat": 4,
 "nbformat_minor": 5
}
