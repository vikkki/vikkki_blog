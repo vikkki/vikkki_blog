{
 "cells": [
  {
   "cell_type": "markdown",
   "metadata": {},
   "source": [
    "# \"Run cellranger count on multiple samples interactively with python\"\n",
    "\n",
    ">\"And collect summary pages/outs in a single folder\"\n",
    "\n",
    "- toc: false\n",
    "- branch: master\n",
    "- badges: true\n",
    "- comments: false\n",
    "- categories: [python, jupyter, singlecell, cellranger]\n",
    "- image: images/cellranger_count.png\n",
    "- hide: false"
   ]
  },
  {
   "cell_type": "markdown",
   "metadata": {},
   "source": [
    "This notebook includes several simple functions to help generate and run cellranger count commends, and gather the summary pages and output folder from seperate sample run directories."
   ]
  },
  {
   "cell_type": "code",
   "execution_count": 30,
   "metadata": {},
   "outputs": [],
   "source": [
    "import os,shutil,re\n",
    "import subprocess"
   ]
  },
  {
   "cell_type": "code",
   "execution_count": 31,
   "metadata": {},
   "outputs": [],
   "source": [
    "%config ZMQInteractiveShell.ast_node_interactivity = \"all\""
   ]
  },
  {
   "cell_type": "markdown",
   "metadata": {},
   "source": [
    "Check current work path:"
   ]
  },
  {
   "cell_type": "code",
   "execution_count": 32,
   "metadata": {},
   "outputs": [
    {
     "data": {
      "text/plain": [
       "'/mnt/data_processing/10xRNA_working/20220202_Polverino_sc5prime_GEX_miseq'"
      ]
     },
     "execution_count": 32,
     "metadata": {},
     "output_type": "execute_result"
    }
   ],
   "source": [
    "cfolder = os.getcwd()\n",
    "cfolder"
   ]
  },
  {
   "cell_type": "code",
   "execution_count": 34,
   "metadata": {},
   "outputs": [],
   "source": [
    "def get_count_result_folder_list(cfolder):\n",
    "    folders_list = next(os.walk(cfolder, followlinks = False))[1]\n",
    "    result_folder_list = []\n",
    "    for folder in folders_list:\n",
    "        if os.path.isfile(cfolder + \"/\" + folder + \"/outs/web_summary.html\"):\n",
    "            result_folder_list.append(folder)\n",
    "    return result_folder_list\n",
    "\n",
    "def get_sample_names(fastq_path):\n",
    "    sample_names = []\n",
    "    for fastq in os.listdir(fastq_path):\n",
    "        sample_names.append(re.split('[_]', fastq)[0])\n",
    "    sample_names = list(set(sample_names))\n",
    "    return sample_names\n",
    "\n",
    "\n",
    "### cellranger count commend construction:\n",
    "def get_cellranger_count_cmd(sample,fastq_path):\n",
    "    a = ''\n",
    "    cmd = a.join([cellranger, \" count --transcriptome \", transcriptome,\n",
    "                 \" --fastqs \", fastq_path, \" --localcores=24 --localmem=100 --no-bam\",\n",
    "                  \" --id \", sample, \" --sample \", sample])\n",
    "    return cmd\n",
    "\n",
    "#  \" --expect-cells=5000\"\n",
    "\n",
    "def run_cellranger_for_sample_list(sample_names, fastq_path):\n",
    "    for sample in sample_names:\n",
    "        cmd = get_cellranger_count_cmd(sample,fastq_path)\n",
    "        print(\"-------------------------------\\n--------- Runing count---------\\n-------------------------------\\n\" \n",
    "              + sample + \"-------------------------------\\n\")\n",
    "        print(cmd)\n",
    "        print(\"------------------------------------------\")\n",
    "        res1 = subprocess.Popen(cmd, shell = True, stdout = subprocess.PIPE, stderr = subprocess.PIPE)\n",
    "        print(str(res1.communicate()[0],\"utf-8\"))\n",
    "\n",
    "def gather_summaries(cfolder):\n",
    "    if not os.path.exists(cfolder + \"/cellranger_web_summaries\"):\n",
    "        print(\"Creating folder...\")\n",
    "        os.makedirs(cfolder + \"/cellranger_web_summaries\")\n",
    "        print(\"Folder created, Ready.\")\n",
    "    else:\n",
    "        print(\"Summary folder exists, Ready.\")\n",
    "    flist = get_count_result_folder_list(cfolder)\n",
    "    for folder in flist:\n",
    "        shutil.copyfile(cfolder + \"/\" + folder + \"/outs/web_summary.html\", cfolder + \"/cellranger_web_summaries/\" + folder + \"_web_summary.html\")\n",
    "        print(folder + \" Coppied.\")\n",
    "    print(\"Finished.\")"
   ]
  },
  {
   "cell_type": "markdown",
   "metadata": {},
   "source": [
    "Add the path to formated fastqs:"
   ]
  },
  {
   "cell_type": "code",
   "execution_count": 26,
   "metadata": {},
   "outputs": [],
   "source": [
    "fastq_path = \"./fastq_checking/\""
   ]
  },
  {
   "cell_type": "markdown",
   "metadata": {},
   "source": [
    "Setup ref genome and software version:"
   ]
  },
  {
   "cell_type": "code",
   "execution_count": 27,
   "metadata": {},
   "outputs": [],
   "source": [
    "transcriptome = \"/data_1T/ref/hm/refdata-gex-GRCh38-2020-A\"\n",
    "# transcriptome = \"/data_1T/ref/mm/refdata-cellranger-mm10-3.0.0\"\n",
    "# transcriptome = \"/data_1T/ref/rn/Rnor_6.0\"\n",
    "\n",
    "# cellranger = '/home/xiaofan/Biotools/cellranger-6.0.2/cellranger'\n",
    "# cellranger = '/home/xiaofan/Biotools/cellranger-6.1.1/cellranger'\n",
    "cellranger = '/home/xiaofan/Biotools/cellranger-6.1.2/cellranger'"
   ]
  },
  {
   "cell_type": "markdown",
   "metadata": {},
   "source": [
    "Check sample names:"
   ]
  },
  {
   "cell_type": "code",
   "execution_count": 28,
   "metadata": {},
   "outputs": [
    {
     "data": {
      "text/plain": [
       "['multiqc', '69-20200902-cryo-lung-ssp-GEX']"
      ]
     },
     "execution_count": 28,
     "metadata": {},
     "output_type": "execute_result"
    }
   ],
   "source": [
    "sample_names = get_sample_names(fastq_path)\n",
    "sample_names"
   ]
  },
  {
   "cell_type": "markdown",
   "metadata": {},
   "source": [
    "Start cellrange count:"
   ]
  },
  {
   "cell_type": "code",
   "execution_count": null,
   "metadata": {},
   "outputs": [],
   "source": [
    "run_cellranger_for_sample_list(sample_names, fastq_path)"
   ]
  },
  {
   "cell_type": "markdown",
   "metadata": {},
   "source": [
    "# Collect and rename summary pages"
   ]
  },
  {
   "cell_type": "code",
   "execution_count": 35,
   "metadata": {},
   "outputs": [
    {
     "name": "stdout",
     "output_type": "stream",
     "text": [
      "Creating folder...\n",
      "Folder created, Ready.\n",
      "69-20200902-cryo-lung-ssp-GEX-manual Coppied.\n",
      "90-20210121-cryo-lung-susp-GEX Coppied.\n",
      "73-20200924-cryo-lung-susp-GEX Coppied.\n",
      "70-20200910-cryo-lung-susp-GEX Coppied.\n",
      "74-20201001-cryo-lung-susp-GEX Coppied.\n",
      "69-20200902-cryo-lung-ssp-GEX Coppied.\n",
      "78-20201112-cryo-lung-susp-GEX Coppied.\n",
      "UA94-RUL-cryo-lung-susp-20210311-GEX Coppied.\n",
      "72-20200917-cryo-lung-ssp-GEX Coppied.\n",
      "UA96-20210325-lung-cryo-GEX Coppied.\n",
      "Finished.\n"
     ]
    }
   ],
   "source": [
    "gather_summaries(cfolder)"
   ]
  },
  {
   "cell_type": "code",
   "execution_count": 19,
   "metadata": {},
   "outputs": [],
   "source": [
    "def gather_count_output(cfolder):\n",
    "    if not os.path.exists(cfolder + \"/cellranger_count_output\"):\n",
    "        print(\"Creating folder...\")\n",
    "        os.makedirs(cfolder + \"/cellranger_count_output\")\n",
    "        print(\"Done.\")\n",
    "    else:\n",
    "        print(\"Output folder exists, Ready.\")\n",
    "    flist = get_count_result_folder_list(cfolder)\n",
    "    for folder in flist:\n",
    "        shutil.copytree(cfolder + \"/\" + folder + \"/outs\", cfolder + \"/cellranger_count_output/\" + folder + \"_out\")\n",
    "        print(folder + \" Coppied.\")\n",
    "    print(\"Finished.\")"
   ]
  },
  {
   "cell_type": "markdown",
   "metadata": {},
   "source": [
    "If needed, collect the entire count output folder(can take up to minutes if bam files included)"
   ]
  },
  {
   "cell_type": "code",
   "execution_count": 8,
   "metadata": {},
   "outputs": [
    {
     "name": "stdout",
     "output_type": "stream",
     "text": [
      "Creating folder...\n",
      "Done.\n",
      "S3 Coppied.\n",
      "S2 Coppied.\n",
      "M5 Coppied.\n",
      "P3 Coppied.\n",
      "M3 Coppied.\n",
      "M6 Coppied.\n",
      "S1 Coppied.\n",
      "P1 Coppied.\n",
      "M4 Coppied.\n",
      "M1 Coppied.\n",
      "PA Coppied.\n",
      "P5 Coppied.\n",
      "P2 Coppied.\n",
      "M2 Coppied.\n",
      "Finished.\n"
     ]
    }
   ],
   "source": [
    "gather_count_output(cfolder)"
   ]
  },
  {
   "cell_type": "code",
   "execution_count": null,
   "metadata": {},
   "outputs": [],
   "source": []
  }
 ],
 "metadata": {
  "kernelspec": {
   "display_name": "Python 3",
   "language": "python",
   "name": "python3"
  },
  "language_info": {
   "codemirror_mode": {
    "name": "ipython",
    "version": 3
   },
   "file_extension": ".py",
   "mimetype": "text/x-python",
   "name": "python",
   "nbconvert_exporter": "python",
   "pygments_lexer": "ipython3",
   "version": "3.7.3"
  }
 },
 "nbformat": 4,
 "nbformat_minor": 4
}
