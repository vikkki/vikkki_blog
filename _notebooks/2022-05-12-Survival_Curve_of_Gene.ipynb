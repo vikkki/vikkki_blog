{
 "cells": [
  {
   "cell_type": "markdown",
   "metadata": {},
   "source": [
    "# \"Kaplan-Meier curve of overall survival of cases stratified by the mRNA level of a certain gene in an independent cohort\"\n",
    "\n",
    ">\"Only takes 3 min!\"\n",
    "\n",
    "- toc: falsem\n",
    "- branch: master\n",
    "- badges: true\n",
    "- comments: false\n",
    "- categories: [R, jupyter, microarry, survival]\n",
    "- image: images/survival_gene.png\n",
    "- hide: false"
   ]
  },
  {
   "cell_type": "markdown",
   "metadata": {},
   "source": [
    "When dicovering genes and their function on deseases, survival curve is a good aspect to help us checking the influence of a factor (like genotype, RNA expression level, and age, gender). According to this pubilication [here](https://www.ncbi.nlm.nih.gov/pmc/articles/PMC3059453/), \"the survival curve can be created assuming various situations. It involves computing of probabilities of occurrence of event at a certain point of time and multiplying these successive probabilities by any earlier computed probabilities to get the final estimate.\"\n",
    "\n",
    "This note is about how I can make survival curve on a certain gene, and will keep it in update when I get new ideas later :)"
   ]
  },
  {
   "cell_type": "markdown",
   "metadata": {},
   "source": [
    "Data source: https://www.ncbi.nlm.nih.gov/geo/query/acc.cgi?acc=GSE53624\n",
    "\n",
    "Public microarray RNA expression data of ESCC were retrieved from GEO database (GSE53624)."
   ]
  },
  {
   "cell_type": "code",
   "execution_count": 4,
   "metadata": {
    "scrolled": false
   },
   "outputs": [
    {
     "name": "stderr",
     "output_type": "stream",
     "text": [
      "Loading required package: Biobase\n",
      "\n",
      "Loading required package: BiocGenerics\n",
      "\n",
      "\n",
      "Attaching package: ‘BiocGenerics’\n",
      "\n",
      "\n",
      "The following objects are masked from ‘package:stats’:\n",
      "\n",
      "    IQR, mad, sd, var, xtabs\n",
      "\n",
      "\n",
      "The following objects are masked from ‘package:base’:\n",
      "\n",
      "    anyDuplicated, append, as.data.frame, basename, cbind, colnames,\n",
      "    dirname, do.call, duplicated, eval, evalq, Filter, Find, get, grep,\n",
      "    grepl, intersect, is.unsorted, lapply, Map, mapply, match, mget,\n",
      "    order, paste, pmax, pmax.int, pmin, pmin.int, Position, rank,\n",
      "    rbind, Reduce, rownames, sapply, setdiff, sort, table, tapply,\n",
      "    union, unique, unsplit, which.max, which.min\n",
      "\n",
      "\n",
      "Welcome to Bioconductor\n",
      "\n",
      "    Vignettes contain introductory material; view with\n",
      "    'browseVignettes()'. To cite Bioconductor, see\n",
      "    'citation(\"Biobase\")', and for packages 'citation(\"pkgname\")'.\n",
      "\n",
      "\n",
      "Setting options('download.file.method.GEOquery'='auto')\n",
      "\n",
      "Setting options('GEOquery.inmemory.gpl'=FALSE)\n",
      "\n"
     ]
    }
   ],
   "source": [
    "# Sys.setenv(\"VROOM_CONNECTION_SIZE\"=999999)\n",
    "# https://cran.r-project.org/web/packages/vroom/readme/README.html\n",
    "\n",
    "library(AnnoProbe)\n",
    "library(GEOquery) \n",
    "\n"
   ]
  },
  {
   "cell_type": "code",
   "execution_count": 5,
   "metadata": {},
   "outputs": [],
   "source": [
    "setwd(\"~/Documents/notes/\")"
   ]
  },
  {
   "cell_type": "code",
   "execution_count": 6,
   "metadata": {},
   "outputs": [
    {
     "name": "stderr",
     "output_type": "stream",
     "text": [
      "Found 1 file(s)\n",
      "\n",
      "GSE53624_series_matrix.txt.gz\n",
      "\n"
     ]
    }
   ],
   "source": [
    "dir.create(\"GSE53624\",recursive = T)\n",
    "eset <- getGEO(\"GSE53624\", destdir = \"./GSE53624\", getGPL = F)"
   ]
  },
  {
   "cell_type": "code",
   "execution_count": 7,
   "metadata": {},
   "outputs": [
    {
     "data": {
      "text/html": [
       "<table class=\"dataframe\">\n",
       "<caption>A data.frame: 6 × 4</caption>\n",
       "<thead>\n",
       "\t<tr><th></th><th scope=col>GSM1297076</th><th scope=col>GSM1297077</th><th scope=col>GSM1297078</th><th scope=col>GSM1297079</th></tr>\n",
       "\t<tr><th></th><th scope=col>&lt;dbl&gt;</th><th scope=col>&lt;dbl&gt;</th><th scope=col>&lt;dbl&gt;</th><th scope=col>&lt;dbl&gt;</th></tr>\n",
       "</thead>\n",
       "<tbody>\n",
       "\t<tr><th scope=row>1</th><td>14.196541</td><td>14.151714</td><td>13.796948</td><td>13.802610</td></tr>\n",
       "\t<tr><th scope=row>2</th><td> 3.195847</td><td> 3.042514</td><td> 3.211573</td><td> 2.995495</td></tr>\n",
       "\t<tr><th scope=row>24</th><td>15.261637</td><td>15.830739</td><td>15.311610</td><td>15.527160</td></tr>\n",
       "\t<tr><th scope=row>25</th><td> 3.157660</td><td> 3.378073</td><td> 3.165554</td><td> 3.634285</td></tr>\n",
       "\t<tr><th scope=row>26</th><td> 5.277165</td><td> 5.297271</td><td> 5.193853</td><td> 5.467351</td></tr>\n",
       "\t<tr><th scope=row>27</th><td> 8.545228</td><td> 8.327291</td><td> 8.527834</td><td> 8.590668</td></tr>\n",
       "</tbody>\n",
       "</table>\n"
      ],
      "text/latex": [
       "A data.frame: 6 × 4\n",
       "\\begin{tabular}{r|llll}\n",
       "  & GSM1297076 & GSM1297077 & GSM1297078 & GSM1297079\\\\\n",
       "  & <dbl> & <dbl> & <dbl> & <dbl>\\\\\n",
       "\\hline\n",
       "\t1 & 14.196541 & 14.151714 & 13.796948 & 13.802610\\\\\n",
       "\t2 &  3.195847 &  3.042514 &  3.211573 &  2.995495\\\\\n",
       "\t24 & 15.261637 & 15.830739 & 15.311610 & 15.527160\\\\\n",
       "\t25 &  3.157660 &  3.378073 &  3.165554 &  3.634285\\\\\n",
       "\t26 &  5.277165 &  5.297271 &  5.193853 &  5.467351\\\\\n",
       "\t27 &  8.545228 &  8.327291 &  8.527834 &  8.590668\\\\\n",
       "\\end{tabular}\n"
      ],
      "text/markdown": [
       "\n",
       "A data.frame: 6 × 4\n",
       "\n",
       "| <!--/--> | GSM1297076 &lt;dbl&gt; | GSM1297077 &lt;dbl&gt; | GSM1297078 &lt;dbl&gt; | GSM1297079 &lt;dbl&gt; |\n",
       "|---|---|---|---|---|\n",
       "| 1 | 14.196541 | 14.151714 | 13.796948 | 13.802610 |\n",
       "| 2 |  3.195847 |  3.042514 |  3.211573 |  2.995495 |\n",
       "| 24 | 15.261637 | 15.830739 | 15.311610 | 15.527160 |\n",
       "| 25 |  3.157660 |  3.378073 |  3.165554 |  3.634285 |\n",
       "| 26 |  5.277165 |  5.297271 |  5.193853 |  5.467351 |\n",
       "| 27 |  8.545228 |  8.327291 |  8.527834 |  8.590668 |\n",
       "\n"
      ],
      "text/plain": [
       "   GSM1297076 GSM1297077 GSM1297078 GSM1297079\n",
       "1  14.196541  14.151714  13.796948  13.802610 \n",
       "2   3.195847   3.042514   3.211573   2.995495 \n",
       "24 15.261637  15.830739  15.311610  15.527160 \n",
       "25  3.157660   3.378073   3.165554   3.634285 \n",
       "26  5.277165   5.297271   5.193853   5.467351 \n",
       "27  8.545228   8.327291   8.527834   8.590668 "
      ]
     },
     "metadata": {},
     "output_type": "display_data"
    }
   ],
   "source": [
    "expr <- as.data.frame(exprs(eset[[1]]))\n",
    "head(expr[,1:4])"
   ]
  },
  {
   "cell_type": "markdown",
   "metadata": {},
   "source": [
    "Query probe annotation:"
   ]
  },
  {
   "cell_type": "code",
   "execution_count": 8,
   "metadata": {},
   "outputs": [
    {
     "name": "stderr",
     "output_type": "stream",
     "text": [
      "file downloaded in /home/xiaofan/Documents/notes\n",
      "\n"
     ]
    },
    {
     "data": {
      "text/html": [
       "<table class=\"dataframe\">\n",
       "<caption>A data.frame: 6 × 2</caption>\n",
       "<thead>\n",
       "\t<tr><th></th><th scope=col>probe_id</th><th scope=col>symbol</th></tr>\n",
       "\t<tr><th></th><th scope=col>&lt;int&gt;</th><th scope=col>&lt;chr&gt;</th></tr>\n",
       "</thead>\n",
       "<tbody>\n",
       "\t<tr><th scope=row>1</th><td>80108</td><td>DDX11L1</td></tr>\n",
       "\t<tr><th scope=row>2</th><td>80108</td><td>WASH7P </td></tr>\n",
       "\t<tr><th scope=row>3</th><td> 4320</td><td>DDX11L1</td></tr>\n",
       "\t<tr><th scope=row>4</th><td> 4320</td><td>WASH7P </td></tr>\n",
       "\t<tr><th scope=row>5</th><td>97414</td><td>DDX11L1</td></tr>\n",
       "\t<tr><th scope=row>6</th><td>97414</td><td>WASH7P </td></tr>\n",
       "</tbody>\n",
       "</table>\n"
      ],
      "text/latex": [
       "A data.frame: 6 × 2\n",
       "\\begin{tabular}{r|ll}\n",
       "  & probe\\_id & symbol\\\\\n",
       "  & <int> & <chr>\\\\\n",
       "\\hline\n",
       "\t1 & 80108 & DDX11L1\\\\\n",
       "\t2 & 80108 & WASH7P \\\\\n",
       "\t3 &  4320 & DDX11L1\\\\\n",
       "\t4 &  4320 & WASH7P \\\\\n",
       "\t5 & 97414 & DDX11L1\\\\\n",
       "\t6 & 97414 & WASH7P \\\\\n",
       "\\end{tabular}\n"
      ],
      "text/markdown": [
       "\n",
       "A data.frame: 6 × 2\n",
       "\n",
       "| <!--/--> | probe_id &lt;int&gt; | symbol &lt;chr&gt; |\n",
       "|---|---|---|\n",
       "| 1 | 80108 | DDX11L1 |\n",
       "| 2 | 80108 | WASH7P  |\n",
       "| 3 |  4320 | DDX11L1 |\n",
       "| 4 |  4320 | WASH7P  |\n",
       "| 5 | 97414 | DDX11L1 |\n",
       "| 6 | 97414 | WASH7P  |\n",
       "\n"
      ],
      "text/plain": [
       "  probe_id symbol \n",
       "1 80108    DDX11L1\n",
       "2 80108    WASH7P \n",
       "3  4320    DDX11L1\n",
       "4  4320    WASH7P \n",
       "5 97414    DDX11L1\n",
       "6 97414    WASH7P "
      ]
     },
     "metadata": {},
     "output_type": "display_data"
    }
   ],
   "source": [
    "ids=idmap('GPL18109','pipe')\n",
    "head(ids) "
   ]
  },
  {
   "cell_type": "markdown",
   "metadata": {},
   "source": [
    "Find the target gene:"
   ]
  },
  {
   "cell_type": "code",
   "execution_count": 9,
   "metadata": {},
   "outputs": [
    {
     "data": {
      "text/html": [
       "<table class=\"dataframe\">\n",
       "<caption>A data.frame: 1 × 2</caption>\n",
       "<thead>\n",
       "\t<tr><th></th><th scope=col>probe_id</th><th scope=col>symbol</th></tr>\n",
       "\t<tr><th></th><th scope=col>&lt;int&gt;</th><th scope=col>&lt;chr&gt;</th></tr>\n",
       "</thead>\n",
       "<tbody>\n",
       "\t<tr><th scope=row>80298</th><td>69686</td><td>CST1</td></tr>\n",
       "</tbody>\n",
       "</table>\n"
      ],
      "text/latex": [
       "A data.frame: 1 × 2\n",
       "\\begin{tabular}{r|ll}\n",
       "  & probe\\_id & symbol\\\\\n",
       "  & <int> & <chr>\\\\\n",
       "\\hline\n",
       "\t80298 & 69686 & CST1\\\\\n",
       "\\end{tabular}\n"
      ],
      "text/markdown": [
       "\n",
       "A data.frame: 1 × 2\n",
       "\n",
       "| <!--/--> | probe_id &lt;int&gt; | symbol &lt;chr&gt; |\n",
       "|---|---|---|\n",
       "| 80298 | 69686 | CST1 |\n",
       "\n"
      ],
      "text/plain": [
       "      probe_id symbol\n",
       "80298 69686    CST1  "
      ]
     },
     "metadata": {},
     "output_type": "display_data"
    }
   ],
   "source": [
    "ids[ids$symbol=='CST1',]"
   ]
  },
  {
   "cell_type": "code",
   "execution_count": 15,
   "metadata": {},
   "outputs": [
    {
     "data": {
      "text/html": [
       "<table class=\"dataframe\">\n",
       "<caption>A data.frame: 1 × 2</caption>\n",
       "<thead>\n",
       "\t<tr><th></th><th scope=col>probe_id</th><th scope=col>symbol</th></tr>\n",
       "\t<tr><th></th><th scope=col>&lt;int&gt;</th><th scope=col>&lt;chr&gt;</th></tr>\n",
       "</thead>\n",
       "<tbody>\n",
       "\t<tr><th scope=row>38042</th><td>31250</td><td>CTSB</td></tr>\n",
       "</tbody>\n",
       "</table>\n"
      ],
      "text/latex": [
       "A data.frame: 1 × 2\n",
       "\\begin{tabular}{r|ll}\n",
       "  & probe\\_id & symbol\\\\\n",
       "  & <int> & <chr>\\\\\n",
       "\\hline\n",
       "\t38042 & 31250 & CTSB\\\\\n",
       "\\end{tabular}\n"
      ],
      "text/markdown": [
       "\n",
       "A data.frame: 1 × 2\n",
       "\n",
       "| <!--/--> | probe_id &lt;int&gt; | symbol &lt;chr&gt; |\n",
       "|---|---|---|\n",
       "| 38042 | 31250 | CTSB |\n",
       "\n"
      ],
      "text/plain": [
       "      probe_id symbol\n",
       "38042 31250    CTSB  "
      ]
     },
     "metadata": {},
     "output_type": "display_data"
    }
   ],
   "source": []
  },
  {
   "cell_type": "code",
   "execution_count": 75,
   "metadata": {},
   "outputs": [
    {
     "data": {
      "text/html": [
       "<table class=\"dataframe\">\n",
       "<caption>A data.frame: 1 × 238</caption>\n",
       "<thead>\n",
       "\t<tr><th></th><th scope=col>GSM1297076</th><th scope=col>GSM1297077</th><th scope=col>GSM1297078</th><th scope=col>GSM1297079</th><th scope=col>GSM1297080</th><th scope=col>GSM1297081</th><th scope=col>GSM1297082</th><th scope=col>GSM1297083</th><th scope=col>GSM1297084</th><th scope=col>GSM1297085</th><th scope=col>⋯</th><th scope=col>GSM1297304</th><th scope=col>GSM1297305</th><th scope=col>GSM1297306</th><th scope=col>GSM1297307</th><th scope=col>GSM1297308</th><th scope=col>GSM1297309</th><th scope=col>GSM1297310</th><th scope=col>GSM1297311</th><th scope=col>GSM1297312</th><th scope=col>GSM1297313</th></tr>\n",
       "\t<tr><th></th><th scope=col>&lt;dbl&gt;</th><th scope=col>&lt;dbl&gt;</th><th scope=col>&lt;dbl&gt;</th><th scope=col>&lt;dbl&gt;</th><th scope=col>&lt;dbl&gt;</th><th scope=col>&lt;dbl&gt;</th><th scope=col>&lt;dbl&gt;</th><th scope=col>&lt;dbl&gt;</th><th scope=col>&lt;dbl&gt;</th><th scope=col>&lt;dbl&gt;</th><th scope=col>⋯</th><th scope=col>&lt;dbl&gt;</th><th scope=col>&lt;dbl&gt;</th><th scope=col>&lt;dbl&gt;</th><th scope=col>&lt;dbl&gt;</th><th scope=col>&lt;dbl&gt;</th><th scope=col>&lt;dbl&gt;</th><th scope=col>&lt;dbl&gt;</th><th scope=col>&lt;dbl&gt;</th><th scope=col>&lt;dbl&gt;</th><th scope=col>&lt;dbl&gt;</th></tr>\n",
       "</thead>\n",
       "<tbody>\n",
       "\t<tr><th scope=row>69686</th><td>12.09817</td><td>8.922841</td><td>14.90663</td><td>10.18603</td><td>14.91623</td><td>10.18041</td><td>13.39866</td><td>9.199378</td><td>15.49725</td><td>11.30926</td><td>⋯</td><td>14.65862</td><td>9.33</td><td>13.42281</td><td>9.268775</td><td>13.32883</td><td>10.61139</td><td>11.57493</td><td>8.851528</td><td>13.1252</td><td>10.69054</td></tr>\n",
       "</tbody>\n",
       "</table>\n"
      ],
      "text/latex": [
       "A data.frame: 1 × 238\n",
       "\\begin{tabular}{r|lllllllllllllllllllll}\n",
       "  & GSM1297076 & GSM1297077 & GSM1297078 & GSM1297079 & GSM1297080 & GSM1297081 & GSM1297082 & GSM1297083 & GSM1297084 & GSM1297085 & ⋯ & GSM1297304 & GSM1297305 & GSM1297306 & GSM1297307 & GSM1297308 & GSM1297309 & GSM1297310 & GSM1297311 & GSM1297312 & GSM1297313\\\\\n",
       "  & <dbl> & <dbl> & <dbl> & <dbl> & <dbl> & <dbl> & <dbl> & <dbl> & <dbl> & <dbl> & ⋯ & <dbl> & <dbl> & <dbl> & <dbl> & <dbl> & <dbl> & <dbl> & <dbl> & <dbl> & <dbl>\\\\\n",
       "\\hline\n",
       "\t69686 & 12.09817 & 8.922841 & 14.90663 & 10.18603 & 14.91623 & 10.18041 & 13.39866 & 9.199378 & 15.49725 & 11.30926 & ⋯ & 14.65862 & 9.33 & 13.42281 & 9.268775 & 13.32883 & 10.61139 & 11.57493 & 8.851528 & 13.1252 & 10.69054\\\\\n",
       "\\end{tabular}\n"
      ],
      "text/markdown": [
       "\n",
       "A data.frame: 1 × 238\n",
       "\n",
       "| <!--/--> | GSM1297076 &lt;dbl&gt; | GSM1297077 &lt;dbl&gt; | GSM1297078 &lt;dbl&gt; | GSM1297079 &lt;dbl&gt; | GSM1297080 &lt;dbl&gt; | GSM1297081 &lt;dbl&gt; | GSM1297082 &lt;dbl&gt; | GSM1297083 &lt;dbl&gt; | GSM1297084 &lt;dbl&gt; | GSM1297085 &lt;dbl&gt; | ⋯ ⋯ | GSM1297304 &lt;dbl&gt; | GSM1297305 &lt;dbl&gt; | GSM1297306 &lt;dbl&gt; | GSM1297307 &lt;dbl&gt; | GSM1297308 &lt;dbl&gt; | GSM1297309 &lt;dbl&gt; | GSM1297310 &lt;dbl&gt; | GSM1297311 &lt;dbl&gt; | GSM1297312 &lt;dbl&gt; | GSM1297313 &lt;dbl&gt; |\n",
       "|---|---|---|---|---|---|---|---|---|---|---|---|---|---|---|---|---|---|---|---|---|---|\n",
       "| 69686 | 12.09817 | 8.922841 | 14.90663 | 10.18603 | 14.91623 | 10.18041 | 13.39866 | 9.199378 | 15.49725 | 11.30926 | ⋯ | 14.65862 | 9.33 | 13.42281 | 9.268775 | 13.32883 | 10.61139 | 11.57493 | 8.851528 | 13.1252 | 10.69054 |\n",
       "\n"
      ],
      "text/plain": [
       "      GSM1297076 GSM1297077 GSM1297078 GSM1297079 GSM1297080 GSM1297081\n",
       "69686 12.09817   8.922841   14.90663   10.18603   14.91623   10.18041  \n",
       "      GSM1297082 GSM1297083 GSM1297084 GSM1297085 ⋯ GSM1297304 GSM1297305\n",
       "69686 13.39866   9.199378   15.49725   11.30926   ⋯ 14.65862   9.33      \n",
       "      GSM1297306 GSM1297307 GSM1297308 GSM1297309 GSM1297310 GSM1297311\n",
       "69686 13.42281   9.268775   13.32883   10.61139   11.57493   8.851528  \n",
       "      GSM1297312 GSM1297313\n",
       "69686 13.1252    10.69054  "
      ]
     },
     "metadata": {},
     "output_type": "display_data"
    }
   ],
   "source": [
    "CST1 = expr[as.character(ids[ids$symbol=='CST1',1]),]\n",
    "CST1"
   ]
  },
  {
   "cell_type": "code",
   "execution_count": 76,
   "metadata": {},
   "outputs": [
    {
     "data": {
      "text/html": [
       "<table class=\"dataframe\">\n",
       "<caption>A data.frame: 1 × 238</caption>\n",
       "<thead>\n",
       "\t<tr><th></th><th scope=col>GSM1297076</th><th scope=col>GSM1297077</th><th scope=col>GSM1297078</th><th scope=col>GSM1297079</th><th scope=col>GSM1297080</th><th scope=col>GSM1297081</th><th scope=col>GSM1297082</th><th scope=col>GSM1297083</th><th scope=col>GSM1297084</th><th scope=col>GSM1297085</th><th scope=col>⋯</th><th scope=col>GSM1297304</th><th scope=col>GSM1297305</th><th scope=col>GSM1297306</th><th scope=col>GSM1297307</th><th scope=col>GSM1297308</th><th scope=col>GSM1297309</th><th scope=col>GSM1297310</th><th scope=col>GSM1297311</th><th scope=col>GSM1297312</th><th scope=col>GSM1297313</th></tr>\n",
       "\t<tr><th></th><th scope=col>&lt;dbl&gt;</th><th scope=col>&lt;dbl&gt;</th><th scope=col>&lt;dbl&gt;</th><th scope=col>&lt;dbl&gt;</th><th scope=col>&lt;dbl&gt;</th><th scope=col>&lt;dbl&gt;</th><th scope=col>&lt;dbl&gt;</th><th scope=col>&lt;dbl&gt;</th><th scope=col>&lt;dbl&gt;</th><th scope=col>&lt;dbl&gt;</th><th scope=col>⋯</th><th scope=col>&lt;dbl&gt;</th><th scope=col>&lt;dbl&gt;</th><th scope=col>&lt;dbl&gt;</th><th scope=col>&lt;dbl&gt;</th><th scope=col>&lt;dbl&gt;</th><th scope=col>&lt;dbl&gt;</th><th scope=col>&lt;dbl&gt;</th><th scope=col>&lt;dbl&gt;</th><th scope=col>&lt;dbl&gt;</th><th scope=col>&lt;dbl&gt;</th></tr>\n",
       "</thead>\n",
       "<tbody>\n",
       "\t<tr><th scope=row>31250</th><td>14.60582</td><td>13.59123</td><td>14.5945</td><td>14.11498</td><td>15.0071</td><td>13.28104</td><td>14.32997</td><td>13.90693</td><td>14.7381</td><td>14.59319</td><td>⋯</td><td>14.90712</td><td>14.35302</td><td>14.5781</td><td>14.20684</td><td>13.92457</td><td>13.75713</td><td>14.54719</td><td>14.45429</td><td>14.85223</td><td>14.14271</td></tr>\n",
       "</tbody>\n",
       "</table>\n"
      ],
      "text/latex": [
       "A data.frame: 1 × 238\n",
       "\\begin{tabular}{r|lllllllllllllllllllll}\n",
       "  & GSM1297076 & GSM1297077 & GSM1297078 & GSM1297079 & GSM1297080 & GSM1297081 & GSM1297082 & GSM1297083 & GSM1297084 & GSM1297085 & ⋯ & GSM1297304 & GSM1297305 & GSM1297306 & GSM1297307 & GSM1297308 & GSM1297309 & GSM1297310 & GSM1297311 & GSM1297312 & GSM1297313\\\\\n",
       "  & <dbl> & <dbl> & <dbl> & <dbl> & <dbl> & <dbl> & <dbl> & <dbl> & <dbl> & <dbl> & ⋯ & <dbl> & <dbl> & <dbl> & <dbl> & <dbl> & <dbl> & <dbl> & <dbl> & <dbl> & <dbl>\\\\\n",
       "\\hline\n",
       "\t31250 & 14.60582 & 13.59123 & 14.5945 & 14.11498 & 15.0071 & 13.28104 & 14.32997 & 13.90693 & 14.7381 & 14.59319 & ⋯ & 14.90712 & 14.35302 & 14.5781 & 14.20684 & 13.92457 & 13.75713 & 14.54719 & 14.45429 & 14.85223 & 14.14271\\\\\n",
       "\\end{tabular}\n"
      ],
      "text/markdown": [
       "\n",
       "A data.frame: 1 × 238\n",
       "\n",
       "| <!--/--> | GSM1297076 &lt;dbl&gt; | GSM1297077 &lt;dbl&gt; | GSM1297078 &lt;dbl&gt; | GSM1297079 &lt;dbl&gt; | GSM1297080 &lt;dbl&gt; | GSM1297081 &lt;dbl&gt; | GSM1297082 &lt;dbl&gt; | GSM1297083 &lt;dbl&gt; | GSM1297084 &lt;dbl&gt; | GSM1297085 &lt;dbl&gt; | ⋯ ⋯ | GSM1297304 &lt;dbl&gt; | GSM1297305 &lt;dbl&gt; | GSM1297306 &lt;dbl&gt; | GSM1297307 &lt;dbl&gt; | GSM1297308 &lt;dbl&gt; | GSM1297309 &lt;dbl&gt; | GSM1297310 &lt;dbl&gt; | GSM1297311 &lt;dbl&gt; | GSM1297312 &lt;dbl&gt; | GSM1297313 &lt;dbl&gt; |\n",
       "|---|---|---|---|---|---|---|---|---|---|---|---|---|---|---|---|---|---|---|---|---|---|\n",
       "| 31250 | 14.60582 | 13.59123 | 14.5945 | 14.11498 | 15.0071 | 13.28104 | 14.32997 | 13.90693 | 14.7381 | 14.59319 | ⋯ | 14.90712 | 14.35302 | 14.5781 | 14.20684 | 13.92457 | 13.75713 | 14.54719 | 14.45429 | 14.85223 | 14.14271 |\n",
       "\n"
      ],
      "text/plain": [
       "      GSM1297076 GSM1297077 GSM1297078 GSM1297079 GSM1297080 GSM1297081\n",
       "31250 14.60582   13.59123   14.5945    14.11498   15.0071    13.28104  \n",
       "      GSM1297082 GSM1297083 GSM1297084 GSM1297085 ⋯ GSM1297304 GSM1297305\n",
       "31250 14.32997   13.90693   14.7381    14.59319   ⋯ 14.90712   14.35302  \n",
       "      GSM1297306 GSM1297307 GSM1297308 GSM1297309 GSM1297310 GSM1297311\n",
       "31250 14.5781    14.20684   13.92457   13.75713   14.54719   14.45429  \n",
       "      GSM1297312 GSM1297313\n",
       "31250 14.85223   14.14271  "
      ]
     },
     "metadata": {},
     "output_type": "display_data"
    }
   ],
   "source": [
    "CTSB = expr[as.character(ids[ids$symbol=='CTSB',1]),]\n",
    "CTSB"
   ]
  },
  {
   "cell_type": "markdown",
   "metadata": {},
   "source": [
    "Metadata:\n",
    "GSE53624_clinical_data_of_patients_orignial_set.xls was downloaded from [here](https://www.ncbi.nlm.nih.gov/geo/query/acc.cgi?acc=GSE53624)"
   ]
  },
  {
   "cell_type": "code",
   "execution_count": 69,
   "metadata": {},
   "outputs": [],
   "source": [
    "clinical <- xlsx::read.xlsx(\"./GSE53624/GSE53624_clinical_data_of_patients_orignial_set.xlsx\",sheetIndex = 1) "
   ]
  },
  {
   "cell_type": "code",
   "execution_count": 70,
   "metadata": {},
   "outputs": [
    {
     "data": {
      "text/plain": [
       "\n",
       " no yes \n",
       " 46  73 "
      ]
     },
     "metadata": {},
     "output_type": "display_data"
    }
   ],
   "source": [
    "table(clinical$Death.at.FU) "
   ]
  },
  {
   "cell_type": "code",
   "execution_count": 71,
   "metadata": {},
   "outputs": [
    {
     "data": {
      "text/html": [
       "<table class=\"dataframe\">\n",
       "<caption>A data.frame: 6 × 3</caption>\n",
       "<thead>\n",
       "\t<tr><th></th><th scope=col>OS.time</th><th scope=col>OS</th><th scope=col>sample</th></tr>\n",
       "\t<tr><th></th><th scope=col>&lt;dbl&gt;</th><th scope=col>&lt;dbl&gt;</th><th scope=col>&lt;chr&gt;</th></tr>\n",
       "</thead>\n",
       "<tbody>\n",
       "\t<tr><th scope=row>1</th><td>48.766667</td><td>1</td><td>ec4 </td></tr>\n",
       "\t<tr><th scope=row>2</th><td> 9.766667</td><td>1</td><td>ec6 </td></tr>\n",
       "\t<tr><th scope=row>3</th><td> 5.833333</td><td>1</td><td>ec7 </td></tr>\n",
       "\t<tr><th scope=row>4</th><td>72.533333</td><td>0</td><td>ec9 </td></tr>\n",
       "\t<tr><th scope=row>5</th><td>72.633333</td><td>0</td><td>ec10</td></tr>\n",
       "\t<tr><th scope=row>6</th><td>35.033333</td><td>1</td><td>ec11</td></tr>\n",
       "</tbody>\n",
       "</table>\n"
      ],
      "text/latex": [
       "A data.frame: 6 × 3\n",
       "\\begin{tabular}{r|lll}\n",
       "  & OS.time & OS & sample\\\\\n",
       "  & <dbl> & <dbl> & <chr>\\\\\n",
       "\\hline\n",
       "\t1 & 48.766667 & 1 & ec4 \\\\\n",
       "\t2 &  9.766667 & 1 & ec6 \\\\\n",
       "\t3 &  5.833333 & 1 & ec7 \\\\\n",
       "\t4 & 72.533333 & 0 & ec9 \\\\\n",
       "\t5 & 72.633333 & 0 & ec10\\\\\n",
       "\t6 & 35.033333 & 1 & ec11\\\\\n",
       "\\end{tabular}\n"
      ],
      "text/markdown": [
       "\n",
       "A data.frame: 6 × 3\n",
       "\n",
       "| <!--/--> | OS.time &lt;dbl&gt; | OS &lt;dbl&gt; | sample &lt;chr&gt; |\n",
       "|---|---|---|---|\n",
       "| 1 | 48.766667 | 1 | ec4  |\n",
       "| 2 |  9.766667 | 1 | ec6  |\n",
       "| 3 |  5.833333 | 1 | ec7  |\n",
       "| 4 | 72.533333 | 0 | ec9  |\n",
       "| 5 | 72.633333 | 0 | ec10 |\n",
       "| 6 | 35.033333 | 1 | ec11 |\n",
       "\n"
      ],
      "text/plain": [
       "  OS.time   OS sample\n",
       "1 48.766667 1  ec4   \n",
       "2  9.766667 1  ec6   \n",
       "3  5.833333 1  ec7   \n",
       "4 72.533333 0  ec9   \n",
       "5 72.633333 0  ec10  \n",
       "6 35.033333 1  ec11  "
      ]
     },
     "metadata": {},
     "output_type": "display_data"
    }
   ],
   "source": [
    "clinical$Death.at.FU <- gsub(\"no\",\"0\",\n",
    "                             gsub(\"yes\",\"1\",clinical$Death.at.FU)) \n",
    "clinical_data <- data.frame(OS.time=as.numeric(clinical$Survival.time.months.),\n",
    "                            OS=as.numeric(clinical$Death.at.FU),\n",
    "                            sample=clinical$Patient.ID)\n",
    "head(clinical_data)"
   ]
  },
  {
   "cell_type": "code",
   "execution_count": 72,
   "metadata": {},
   "outputs": [
    {
     "data": {
      "text/html": [
       "<table class=\"dataframe\">\n",
       "<caption>A data.frame: 6 × 4</caption>\n",
       "<thead>\n",
       "\t<tr><th></th><th scope=col>sample</th><th scope=col>title</th><th scope=col>tissue</th><th scope=col>patient</th></tr>\n",
       "\t<tr><th></th><th scope=col>&lt;chr&gt;</th><th scope=col>&lt;chr&gt;</th><th scope=col>&lt;chr&gt;</th><th scope=col>&lt;chr&gt;</th></tr>\n",
       "</thead>\n",
       "<tbody>\n",
       "\t<tr><th scope=row>1</th><td>GSM1297076</td><td>cancer tissue from patient 224</td><td>cancer</td><td>224</td></tr>\n",
       "\t<tr><th scope=row>2</th><td>GSM1297077</td><td>normal tissue from patient 224</td><td>normal</td><td>224</td></tr>\n",
       "\t<tr><th scope=row>3</th><td>GSM1297078</td><td>cancer tissue from patient 225</td><td>cancer</td><td>225</td></tr>\n",
       "\t<tr><th scope=row>4</th><td>GSM1297079</td><td>normal tissue from patient 225</td><td>normal</td><td>225</td></tr>\n",
       "\t<tr><th scope=row>5</th><td>GSM1297080</td><td>cancer tissue from patient 226</td><td>cancer</td><td>226</td></tr>\n",
       "\t<tr><th scope=row>6</th><td>GSM1297081</td><td>normal tissue from patient 226</td><td>normal</td><td>226</td></tr>\n",
       "</tbody>\n",
       "</table>\n"
      ],
      "text/latex": [
       "A data.frame: 6 × 4\n",
       "\\begin{tabular}{r|llll}\n",
       "  & sample & title & tissue & patient\\\\\n",
       "  & <chr> & <chr> & <chr> & <chr>\\\\\n",
       "\\hline\n",
       "\t1 & GSM1297076 & cancer tissue from patient 224 & cancer & 224\\\\\n",
       "\t2 & GSM1297077 & normal tissue from patient 224 & normal & 224\\\\\n",
       "\t3 & GSM1297078 & cancer tissue from patient 225 & cancer & 225\\\\\n",
       "\t4 & GSM1297079 & normal tissue from patient 225 & normal & 225\\\\\n",
       "\t5 & GSM1297080 & cancer tissue from patient 226 & cancer & 226\\\\\n",
       "\t6 & GSM1297081 & normal tissue from patient 226 & normal & 226\\\\\n",
       "\\end{tabular}\n"
      ],
      "text/markdown": [
       "\n",
       "A data.frame: 6 × 4\n",
       "\n",
       "| <!--/--> | sample &lt;chr&gt; | title &lt;chr&gt; | tissue &lt;chr&gt; | patient &lt;chr&gt; |\n",
       "|---|---|---|---|---|\n",
       "| 1 | GSM1297076 | cancer tissue from patient 224 | cancer | 224 |\n",
       "| 2 | GSM1297077 | normal tissue from patient 224 | normal | 224 |\n",
       "| 3 | GSM1297078 | cancer tissue from patient 225 | cancer | 225 |\n",
       "| 4 | GSM1297079 | normal tissue from patient 225 | normal | 225 |\n",
       "| 5 | GSM1297080 | cancer tissue from patient 226 | cancer | 226 |\n",
       "| 6 | GSM1297081 | normal tissue from patient 226 | normal | 226 |\n",
       "\n"
      ],
      "text/plain": [
       "  sample     title                          tissue patient\n",
       "1 GSM1297076 cancer tissue from patient 224 cancer 224    \n",
       "2 GSM1297077 normal tissue from patient 224 normal 224    \n",
       "3 GSM1297078 cancer tissue from patient 225 cancer 225    \n",
       "4 GSM1297079 normal tissue from patient 225 normal 225    \n",
       "5 GSM1297080 cancer tissue from patient 226 cancer 226    \n",
       "6 GSM1297081 normal tissue from patient 226 normal 226    "
      ]
     },
     "metadata": {},
     "output_type": "display_data"
    },
    {
     "data": {
      "text/html": [
       "FALSE"
      ],
      "text/latex": [
       "FALSE"
      ],
      "text/markdown": [
       "FALSE"
      ],
      "text/plain": [
       "[1] FALSE"
      ]
     },
     "metadata": {},
     "output_type": "display_data"
    }
   ],
   "source": [
    "phenotype <- pData(eset[[1]])\n",
    "phe1 <- data.frame(sample = rownames(phenotype),\n",
    "                   title = phenotype$title) \n",
    "phe1$tissue <- stringr::str_split(phe1$title,\" \",simplify = T)[,1]\n",
    "phe1$patient <- stringr::str_split(phe1$title,\" \",simplify = T)[,5]\n",
    "head(phe1)\n",
    "phe1=phe1[phe1$tissue == 'cancer',]\n",
    "phe1$patient=paste0('ec',phe1$patient)\n",
    "identical(phe1$patient,clinical_data$sample)"
   ]
  },
  {
   "cell_type": "code",
   "execution_count": 73,
   "metadata": {},
   "outputs": [],
   "source": [
    "library(survival)"
   ]
  },
  {
   "cell_type": "code",
   "execution_count": 77,
   "metadata": {},
   "outputs": [
    {
     "data": {
      "text/html": [
       "<table class=\"dataframe\">\n",
       "<caption>A data.frame: 1 × 119</caption>\n",
       "<thead>\n",
       "\t<tr><th></th><th scope=col>GSM1297076</th><th scope=col>GSM1297078</th><th scope=col>GSM1297080</th><th scope=col>GSM1297082</th><th scope=col>GSM1297084</th><th scope=col>GSM1297086</th><th scope=col>GSM1297088</th><th scope=col>GSM1297090</th><th scope=col>GSM1297092</th><th scope=col>GSM1297094</th><th scope=col>⋯</th><th scope=col>GSM1297294</th><th scope=col>GSM1297296</th><th scope=col>GSM1297298</th><th scope=col>GSM1297300</th><th scope=col>GSM1297302</th><th scope=col>GSM1297304</th><th scope=col>GSM1297306</th><th scope=col>GSM1297308</th><th scope=col>GSM1297310</th><th scope=col>GSM1297312</th></tr>\n",
       "\t<tr><th></th><th scope=col>&lt;dbl&gt;</th><th scope=col>&lt;dbl&gt;</th><th scope=col>&lt;dbl&gt;</th><th scope=col>&lt;dbl&gt;</th><th scope=col>&lt;dbl&gt;</th><th scope=col>&lt;dbl&gt;</th><th scope=col>&lt;dbl&gt;</th><th scope=col>&lt;dbl&gt;</th><th scope=col>&lt;dbl&gt;</th><th scope=col>&lt;dbl&gt;</th><th scope=col>⋯</th><th scope=col>&lt;dbl&gt;</th><th scope=col>&lt;dbl&gt;</th><th scope=col>&lt;dbl&gt;</th><th scope=col>&lt;dbl&gt;</th><th scope=col>&lt;dbl&gt;</th><th scope=col>&lt;dbl&gt;</th><th scope=col>&lt;dbl&gt;</th><th scope=col>&lt;dbl&gt;</th><th scope=col>&lt;dbl&gt;</th><th scope=col>&lt;dbl&gt;</th></tr>\n",
       "</thead>\n",
       "<tbody>\n",
       "\t<tr><th scope=row>69686</th><td>12.09817</td><td>14.90663</td><td>14.91623</td><td>13.39866</td><td>15.49725</td><td>15.39298</td><td>14.39151</td><td>15.11474</td><td>15.29023</td><td>15.18338</td><td>⋯</td><td>12.50499</td><td>14.39441</td><td>10.29386</td><td>13.15363</td><td>12.39219</td><td>14.65862</td><td>13.42281</td><td>13.32883</td><td>11.57493</td><td>13.1252</td></tr>\n",
       "</tbody>\n",
       "</table>\n"
      ],
      "text/latex": [
       "A data.frame: 1 × 119\n",
       "\\begin{tabular}{r|lllllllllllllllllllll}\n",
       "  & GSM1297076 & GSM1297078 & GSM1297080 & GSM1297082 & GSM1297084 & GSM1297086 & GSM1297088 & GSM1297090 & GSM1297092 & GSM1297094 & ⋯ & GSM1297294 & GSM1297296 & GSM1297298 & GSM1297300 & GSM1297302 & GSM1297304 & GSM1297306 & GSM1297308 & GSM1297310 & GSM1297312\\\\\n",
       "  & <dbl> & <dbl> & <dbl> & <dbl> & <dbl> & <dbl> & <dbl> & <dbl> & <dbl> & <dbl> & ⋯ & <dbl> & <dbl> & <dbl> & <dbl> & <dbl> & <dbl> & <dbl> & <dbl> & <dbl> & <dbl>\\\\\n",
       "\\hline\n",
       "\t69686 & 12.09817 & 14.90663 & 14.91623 & 13.39866 & 15.49725 & 15.39298 & 14.39151 & 15.11474 & 15.29023 & 15.18338 & ⋯ & 12.50499 & 14.39441 & 10.29386 & 13.15363 & 12.39219 & 14.65862 & 13.42281 & 13.32883 & 11.57493 & 13.1252\\\\\n",
       "\\end{tabular}\n"
      ],
      "text/markdown": [
       "\n",
       "A data.frame: 1 × 119\n",
       "\n",
       "| <!--/--> | GSM1297076 &lt;dbl&gt; | GSM1297078 &lt;dbl&gt; | GSM1297080 &lt;dbl&gt; | GSM1297082 &lt;dbl&gt; | GSM1297084 &lt;dbl&gt; | GSM1297086 &lt;dbl&gt; | GSM1297088 &lt;dbl&gt; | GSM1297090 &lt;dbl&gt; | GSM1297092 &lt;dbl&gt; | GSM1297094 &lt;dbl&gt; | ⋯ ⋯ | GSM1297294 &lt;dbl&gt; | GSM1297296 &lt;dbl&gt; | GSM1297298 &lt;dbl&gt; | GSM1297300 &lt;dbl&gt; | GSM1297302 &lt;dbl&gt; | GSM1297304 &lt;dbl&gt; | GSM1297306 &lt;dbl&gt; | GSM1297308 &lt;dbl&gt; | GSM1297310 &lt;dbl&gt; | GSM1297312 &lt;dbl&gt; |\n",
       "|---|---|---|---|---|---|---|---|---|---|---|---|---|---|---|---|---|---|---|---|---|---|\n",
       "| 69686 | 12.09817 | 14.90663 | 14.91623 | 13.39866 | 15.49725 | 15.39298 | 14.39151 | 15.11474 | 15.29023 | 15.18338 | ⋯ | 12.50499 | 14.39441 | 10.29386 | 13.15363 | 12.39219 | 14.65862 | 13.42281 | 13.32883 | 11.57493 | 13.1252 |\n",
       "\n"
      ],
      "text/plain": [
       "      GSM1297076 GSM1297078 GSM1297080 GSM1297082 GSM1297084 GSM1297086\n",
       "69686 12.09817   14.90663   14.91623   13.39866   15.49725   15.39298  \n",
       "      GSM1297088 GSM1297090 GSM1297092 GSM1297094 ⋯ GSM1297294 GSM1297296\n",
       "69686 14.39151   15.11474   15.29023   15.18338   ⋯ 12.50499   14.39441  \n",
       "      GSM1297298 GSM1297300 GSM1297302 GSM1297304 GSM1297306 GSM1297308\n",
       "69686 10.29386   13.15363   12.39219   14.65862   13.42281   13.32883  \n",
       "      GSM1297310 GSM1297312\n",
       "69686 11.57493   13.1252   "
      ]
     },
     "metadata": {},
     "output_type": "display_data"
    }
   ],
   "source": [
    "CST1.clinical_data=clinical_data[match(phe1$patient,clinical_data$sample),]\n",
    "CST1.cl=CST1[match(phe1$sample,colnames(expr))]\n",
    "CST1.cl"
   ]
  },
  {
   "cell_type": "code",
   "execution_count": 80,
   "metadata": {
    "scrolled": true
   },
   "outputs": [
    {
     "data": {
      "text/html": [
       "<table class=\"dataframe\">\n",
       "<caption>A data.frame: 6 × 4</caption>\n",
       "<thead>\n",
       "\t<tr><th></th><th scope=col>OS.time</th><th scope=col>OS</th><th scope=col>sample</th><th scope=col>gene</th></tr>\n",
       "\t<tr><th></th><th scope=col>&lt;dbl&gt;</th><th scope=col>&lt;dbl&gt;</th><th scope=col>&lt;chr&gt;</th><th scope=col>&lt;chr&gt;</th></tr>\n",
       "</thead>\n",
       "<tbody>\n",
       "\t<tr><th scope=row>65</th><td>60.30000</td><td>0</td><td>ec224</td><td>low </td></tr>\n",
       "\t<tr><th scope=row>66</th><td>27.56667</td><td>1</td><td>ec225</td><td>high</td></tr>\n",
       "\t<tr><th scope=row>67</th><td>34.66667</td><td>1</td><td>ec226</td><td>high</td></tr>\n",
       "\t<tr><th scope=row>68</th><td>60.96667</td><td>0</td><td>ec227</td><td>low </td></tr>\n",
       "\t<tr><th scope=row>81</th><td>15.43333</td><td>1</td><td>ec251</td><td>high</td></tr>\n",
       "\t<tr><th scope=row>82</th><td>61.33333</td><td>0</td><td>ec253</td><td>high</td></tr>\n",
       "</tbody>\n",
       "</table>\n"
      ],
      "text/latex": [
       "A data.frame: 6 × 4\n",
       "\\begin{tabular}{r|llll}\n",
       "  & OS.time & OS & sample & gene\\\\\n",
       "  & <dbl> & <dbl> & <chr> & <chr>\\\\\n",
       "\\hline\n",
       "\t65 & 60.30000 & 0 & ec224 & low \\\\\n",
       "\t66 & 27.56667 & 1 & ec225 & high\\\\\n",
       "\t67 & 34.66667 & 1 & ec226 & high\\\\\n",
       "\t68 & 60.96667 & 0 & ec227 & low \\\\\n",
       "\t81 & 15.43333 & 1 & ec251 & high\\\\\n",
       "\t82 & 61.33333 & 0 & ec253 & high\\\\\n",
       "\\end{tabular}\n"
      ],
      "text/markdown": [
       "\n",
       "A data.frame: 6 × 4\n",
       "\n",
       "| <!--/--> | OS.time &lt;dbl&gt; | OS &lt;dbl&gt; | sample &lt;chr&gt; | gene &lt;chr&gt; |\n",
       "|---|---|---|---|---|\n",
       "| 65 | 60.30000 | 0 | ec224 | low  |\n",
       "| 66 | 27.56667 | 1 | ec225 | high |\n",
       "| 67 | 34.66667 | 1 | ec226 | high |\n",
       "| 68 | 60.96667 | 0 | ec227 | low  |\n",
       "| 81 | 15.43333 | 1 | ec251 | high |\n",
       "| 82 | 61.33333 | 0 | ec253 | high |\n",
       "\n"
      ],
      "text/plain": [
       "   OS.time  OS sample gene\n",
       "65 60.30000 0  ec224  low \n",
       "66 27.56667 1  ec225  high\n",
       "67 34.66667 1  ec226  high\n",
       "68 60.96667 0  ec227  low \n",
       "81 15.43333 1  ec251  high\n",
       "82 61.33333 0  ec253  high"
      ]
     },
     "metadata": {},
     "output_type": "display_data"
    }
   ],
   "source": [
    "CST1.cl=as.numeric(CST1.cl)\n",
    "\n",
    "CST1.clinical_data$gene = ifelse( CST1.cl  > median( CST1.cl ),'high','low')\n",
    "head(CST1.clinical_data)"
   ]
  },
  {
   "cell_type": "code",
   "execution_count": 81,
   "metadata": {},
   "outputs": [
    {
     "data": {
      "image/png": "[encoded data removed]",
      "text/plain": [
       "plot without title"
      ]
     },
     "metadata": {
      "image/png": {
       "height": 420,
       "width": 420
      }
     },
     "output_type": "display_data"
    }
   ],
   "source": [
    "sfit1=survfit(Surv(OS.time, OS)~gene, data=CST1.clinical_data)\n",
    "p1 = survminer::ggsurvplot(sfit1,pval =TRUE, data = CST1.clinical_data, risk.table = TRUE) + ggplot2::labs(title=\"CST1\")\n",
    "p1"
   ]
  },
  {
   "cell_type": "code",
   "execution_count": 88,
   "metadata": {
    "scrolled": false
   },
   "outputs": [
    {
     "data": {
      "image/png": "[encoded data removed]",
      "text/plain": [
       "plot without title"
      ]
     },
     "metadata": {
      "image/png": {
       "height": 420,
       "width": 420
      }
     },
     "output_type": "display_data"
    }
   ],
   "source": [
    "CTSB.clinical_data=clinical_data[match(phe1$patient,clinical_data$sample),]\n",
    "CTSB.cl=CTSB[match(phe1$sample,colnames(expr))]\n",
    "CTSB.cl=as.numeric(CTSB.cl)\n",
    "CTSB.clinical_data$gene = ifelse( CTSB.cl  > median( CTSB.cl ),'high','low')\n",
    "sfit2=survfit(Surv(OS.time, OS)~gene, data=CTSB.clinical_data)\n",
    "p2 = survminer::ggsurvplot(sfit2,pval =TRUE, data = CTSB.clinical_data, risk.table = TRUE) + ggplot2::labs(title=\"CTSB\")\n",
    "p2"
   ]
  },
  {
   "cell_type": "code",
   "execution_count": 98,
   "metadata": {},
   "outputs": [
    {
     "data": {
      "text/html": [
       "<table class=\"dataframe\">\n",
       "<caption>A data.frame: 3 × 2</caption>\n",
       "<thead>\n",
       "\t<tr><th></th><th scope=col>probe_id</th><th scope=col>symbol</th></tr>\n",
       "\t<tr><th></th><th scope=col>&lt;int&gt;</th><th scope=col>&lt;chr&gt;</th></tr>\n",
       "</thead>\n",
       "<tbody>\n",
       "\t<tr><th scope=row>44153</th><td> 49101</td><td>TTF1</td></tr>\n",
       "\t<tr><th scope=row>44154</th><td>119532</td><td>TTF1</td></tr>\n",
       "\t<tr><th scope=row>44155</th><td>103167</td><td>TTF1</td></tr>\n",
       "</tbody>\n",
       "</table>\n"
      ],
      "text/latex": [
       "A data.frame: 3 × 2\n",
       "\\begin{tabular}{r|ll}\n",
       "  & probe\\_id & symbol\\\\\n",
       "  & <int> & <chr>\\\\\n",
       "\\hline\n",
       "\t44153 &  49101 & TTF1\\\\\n",
       "\t44154 & 119532 & TTF1\\\\\n",
       "\t44155 & 103167 & TTF1\\\\\n",
       "\\end{tabular}\n"
      ],
      "text/markdown": [
       "\n",
       "A data.frame: 3 × 2\n",
       "\n",
       "| <!--/--> | probe_id &lt;int&gt; | symbol &lt;chr&gt; |\n",
       "|---|---|---|\n",
       "| 44153 |  49101 | TTF1 |\n",
       "| 44154 | 119532 | TTF1 |\n",
       "| 44155 | 103167 | TTF1 |\n",
       "\n"
      ],
      "text/plain": [
       "      probe_id symbol\n",
       "44153  49101   TTF1  \n",
       "44154 119532   TTF1  \n",
       "44155 103167   TTF1  "
      ]
     },
     "metadata": {},
     "output_type": "display_data"
    }
   ],
   "source": [
    "gene = \"TTF1\"\n",
    "ids[ids$symbol=='TTF1',]\n"
   ]
  },
  {
   "cell_type": "code",
   "execution_count": 101,
   "metadata": {},
   "outputs": [
    {
     "data": {
      "text/html": [
       "<table class=\"dataframe\">\n",
       "<caption>A data.frame: 3 × 238</caption>\n",
       "<thead>\n",
       "\t<tr><th></th><th scope=col>GSM1297076</th><th scope=col>GSM1297077</th><th scope=col>GSM1297078</th><th scope=col>GSM1297079</th><th scope=col>GSM1297080</th><th scope=col>GSM1297081</th><th scope=col>GSM1297082</th><th scope=col>GSM1297083</th><th scope=col>GSM1297084</th><th scope=col>GSM1297085</th><th scope=col>⋯</th><th scope=col>GSM1297304</th><th scope=col>GSM1297305</th><th scope=col>GSM1297306</th><th scope=col>GSM1297307</th><th scope=col>GSM1297308</th><th scope=col>GSM1297309</th><th scope=col>GSM1297310</th><th scope=col>GSM1297311</th><th scope=col>GSM1297312</th><th scope=col>GSM1297313</th></tr>\n",
       "\t<tr><th></th><th scope=col>&lt;dbl&gt;</th><th scope=col>&lt;dbl&gt;</th><th scope=col>&lt;dbl&gt;</th><th scope=col>&lt;dbl&gt;</th><th scope=col>&lt;dbl&gt;</th><th scope=col>&lt;dbl&gt;</th><th scope=col>&lt;dbl&gt;</th><th scope=col>&lt;dbl&gt;</th><th scope=col>&lt;dbl&gt;</th><th scope=col>&lt;dbl&gt;</th><th scope=col>⋯</th><th scope=col>&lt;dbl&gt;</th><th scope=col>&lt;dbl&gt;</th><th scope=col>&lt;dbl&gt;</th><th scope=col>&lt;dbl&gt;</th><th scope=col>&lt;dbl&gt;</th><th scope=col>&lt;dbl&gt;</th><th scope=col>&lt;dbl&gt;</th><th scope=col>&lt;dbl&gt;</th><th scope=col>&lt;dbl&gt;</th><th scope=col>&lt;dbl&gt;</th></tr>\n",
       "</thead>\n",
       "<tbody>\n",
       "\t<tr><th scope=row>49101</th><td>11.02987</td><td>10.80374</td><td>10.91583</td><td>10.62685</td><td>11.44957</td><td>10.91205</td><td>10.83738</td><td>10.77016</td><td>10.19814</td><td>10.18317</td><td>⋯</td><td>10.30097</td><td>10.15997</td><td>11.37990</td><td>10.83498</td><td>11.03148</td><td>10.65352</td><td>10.39791</td><td>10.39283</td><td>10.33114</td><td> 9.444365</td></tr>\n",
       "\t<tr><th scope=row>119532</th><td>11.71704</td><td>11.47166</td><td>11.61420</td><td>11.28658</td><td>12.13650</td><td>11.59252</td><td>11.56784</td><td>11.47886</td><td>11.26517</td><td>11.29613</td><td>⋯</td><td>11.07106</td><td>10.85781</td><td>11.89306</td><td>11.29598</td><td>11.60490</td><td>11.25663</td><td>11.00526</td><td>10.97788</td><td>10.99330</td><td>10.568630</td></tr>\n",
       "\t<tr><th scope=row>103167</th><td>10.93233</td><td>10.77753</td><td>10.86874</td><td>10.84316</td><td>11.39397</td><td>10.94832</td><td>10.83884</td><td>10.89749</td><td>11.42119</td><td>11.34206</td><td>⋯</td><td>10.10479</td><td>10.09412</td><td>11.42420</td><td>10.70688</td><td>10.81011</td><td>10.55752</td><td>10.34643</td><td>10.31036</td><td>10.38547</td><td> 9.385584</td></tr>\n",
       "</tbody>\n",
       "</table>\n"
      ],
      "text/latex": [
       "A data.frame: 3 × 238\n",
       "\\begin{tabular}{r|lllllllllllllllllllll}\n",
       "  & GSM1297076 & GSM1297077 & GSM1297078 & GSM1297079 & GSM1297080 & GSM1297081 & GSM1297082 & GSM1297083 & GSM1297084 & GSM1297085 & ⋯ & GSM1297304 & GSM1297305 & GSM1297306 & GSM1297307 & GSM1297308 & GSM1297309 & GSM1297310 & GSM1297311 & GSM1297312 & GSM1297313\\\\\n",
       "  & <dbl> & <dbl> & <dbl> & <dbl> & <dbl> & <dbl> & <dbl> & <dbl> & <dbl> & <dbl> & ⋯ & <dbl> & <dbl> & <dbl> & <dbl> & <dbl> & <dbl> & <dbl> & <dbl> & <dbl> & <dbl>\\\\\n",
       "\\hline\n",
       "\t49101 & 11.02987 & 10.80374 & 10.91583 & 10.62685 & 11.44957 & 10.91205 & 10.83738 & 10.77016 & 10.19814 & 10.18317 & ⋯ & 10.30097 & 10.15997 & 11.37990 & 10.83498 & 11.03148 & 10.65352 & 10.39791 & 10.39283 & 10.33114 &  9.444365\\\\\n",
       "\t119532 & 11.71704 & 11.47166 & 11.61420 & 11.28658 & 12.13650 & 11.59252 & 11.56784 & 11.47886 & 11.26517 & 11.29613 & ⋯ & 11.07106 & 10.85781 & 11.89306 & 11.29598 & 11.60490 & 11.25663 & 11.00526 & 10.97788 & 10.99330 & 10.568630\\\\\n",
       "\t103167 & 10.93233 & 10.77753 & 10.86874 & 10.84316 & 11.39397 & 10.94832 & 10.83884 & 10.89749 & 11.42119 & 11.34206 & ⋯ & 10.10479 & 10.09412 & 11.42420 & 10.70688 & 10.81011 & 10.55752 & 10.34643 & 10.31036 & 10.38547 &  9.385584\\\\\n",
       "\\end{tabular}\n"
      ],
      "text/markdown": [
       "\n",
       "A data.frame: 3 × 238\n",
       "\n",
       "| <!--/--> | GSM1297076 &lt;dbl&gt; | GSM1297077 &lt;dbl&gt; | GSM1297078 &lt;dbl&gt; | GSM1297079 &lt;dbl&gt; | GSM1297080 &lt;dbl&gt; | GSM1297081 &lt;dbl&gt; | GSM1297082 &lt;dbl&gt; | GSM1297083 &lt;dbl&gt; | GSM1297084 &lt;dbl&gt; | GSM1297085 &lt;dbl&gt; | ⋯ ⋯ | GSM1297304 &lt;dbl&gt; | GSM1297305 &lt;dbl&gt; | GSM1297306 &lt;dbl&gt; | GSM1297307 &lt;dbl&gt; | GSM1297308 &lt;dbl&gt; | GSM1297309 &lt;dbl&gt; | GSM1297310 &lt;dbl&gt; | GSM1297311 &lt;dbl&gt; | GSM1297312 &lt;dbl&gt; | GSM1297313 &lt;dbl&gt; |\n",
       "|---|---|---|---|---|---|---|---|---|---|---|---|---|---|---|---|---|---|---|---|---|---|\n",
       "| 49101 | 11.02987 | 10.80374 | 10.91583 | 10.62685 | 11.44957 | 10.91205 | 10.83738 | 10.77016 | 10.19814 | 10.18317 | ⋯ | 10.30097 | 10.15997 | 11.37990 | 10.83498 | 11.03148 | 10.65352 | 10.39791 | 10.39283 | 10.33114 |  9.444365 |\n",
       "| 119532 | 11.71704 | 11.47166 | 11.61420 | 11.28658 | 12.13650 | 11.59252 | 11.56784 | 11.47886 | 11.26517 | 11.29613 | ⋯ | 11.07106 | 10.85781 | 11.89306 | 11.29598 | 11.60490 | 11.25663 | 11.00526 | 10.97788 | 10.99330 | 10.568630 |\n",
       "| 103167 | 10.93233 | 10.77753 | 10.86874 | 10.84316 | 11.39397 | 10.94832 | 10.83884 | 10.89749 | 11.42119 | 11.34206 | ⋯ | 10.10479 | 10.09412 | 11.42420 | 10.70688 | 10.81011 | 10.55752 | 10.34643 | 10.31036 | 10.38547 |  9.385584 |\n",
       "\n"
      ],
      "text/plain": [
       "       GSM1297076 GSM1297077 GSM1297078 GSM1297079 GSM1297080 GSM1297081\n",
       "49101  11.02987   10.80374   10.91583   10.62685   11.44957   10.91205  \n",
       "119532 11.71704   11.47166   11.61420   11.28658   12.13650   11.59252  \n",
       "103167 10.93233   10.77753   10.86874   10.84316   11.39397   10.94832  \n",
       "       GSM1297082 GSM1297083 GSM1297084 GSM1297085 ⋯ GSM1297304 GSM1297305\n",
       "49101  10.83738   10.77016   10.19814   10.18317   ⋯ 10.30097   10.15997  \n",
       "119532 11.56784   11.47886   11.26517   11.29613   ⋯ 11.07106   10.85781  \n",
       "103167 10.83884   10.89749   11.42119   11.34206   ⋯ 10.10479   10.09412  \n",
       "       GSM1297306 GSM1297307 GSM1297308 GSM1297309 GSM1297310 GSM1297311\n",
       "49101  11.37990   10.83498   11.03148   10.65352   10.39791   10.39283  \n",
       "119532 11.89306   11.29598   11.60490   11.25663   11.00526   10.97788  \n",
       "103167 11.42420   10.70688   10.81011   10.55752   10.34643   10.31036  \n",
       "       GSM1297312 GSM1297313\n",
       "49101  10.33114    9.444365 \n",
       "119532 10.99330   10.568630 \n",
       "103167 10.38547    9.385584 "
      ]
     },
     "metadata": {},
     "output_type": "display_data"
    }
   ],
   "source": [
    "TTF1 = expr[as.character(ids[ids$symbol==gene,1]),]\n",
    "TTF1"
   ]
  },
  {
   "cell_type": "code",
   "execution_count": 103,
   "metadata": {},
   "outputs": [
    {
     "data": {
      "text/html": [
       "<table class=\"dataframe\">\n",
       "<caption>A data.frame: 1 × 238</caption>\n",
       "<thead>\n",
       "\t<tr><th></th><th scope=col>GSM1297076</th><th scope=col>GSM1297077</th><th scope=col>GSM1297078</th><th scope=col>GSM1297079</th><th scope=col>GSM1297080</th><th scope=col>GSM1297081</th><th scope=col>GSM1297082</th><th scope=col>GSM1297083</th><th scope=col>GSM1297084</th><th scope=col>GSM1297085</th><th scope=col>⋯</th><th scope=col>GSM1297304</th><th scope=col>GSM1297305</th><th scope=col>GSM1297306</th><th scope=col>GSM1297307</th><th scope=col>GSM1297308</th><th scope=col>GSM1297309</th><th scope=col>GSM1297310</th><th scope=col>GSM1297311</th><th scope=col>GSM1297312</th><th scope=col>GSM1297313</th></tr>\n",
       "\t<tr><th></th><th scope=col>&lt;dbl&gt;</th><th scope=col>&lt;dbl&gt;</th><th scope=col>&lt;dbl&gt;</th><th scope=col>&lt;dbl&gt;</th><th scope=col>&lt;dbl&gt;</th><th scope=col>&lt;dbl&gt;</th><th scope=col>&lt;dbl&gt;</th><th scope=col>&lt;dbl&gt;</th><th scope=col>&lt;dbl&gt;</th><th scope=col>&lt;dbl&gt;</th><th scope=col>⋯</th><th scope=col>&lt;dbl&gt;</th><th scope=col>&lt;dbl&gt;</th><th scope=col>&lt;dbl&gt;</th><th scope=col>&lt;dbl&gt;</th><th scope=col>&lt;dbl&gt;</th><th scope=col>&lt;dbl&gt;</th><th scope=col>&lt;dbl&gt;</th><th scope=col>&lt;dbl&gt;</th><th scope=col>&lt;dbl&gt;</th><th scope=col>&lt;dbl&gt;</th></tr>\n",
       "</thead>\n",
       "<tbody>\n",
       "\t<tr><th scope=row>79066</th><td>6.391043</td><td>7.798494</td><td>5.072013</td><td>7.196961</td><td>6.798004</td><td>9.259991</td><td>5.799467</td><td>6.866773</td><td>3.912495</td><td>7.193734</td><td>⋯</td><td>7.867408</td><td>9.985494</td><td>4.70194</td><td>6.216463</td><td>4.815819</td><td>4.557891</td><td>5.632451</td><td>6.549177</td><td>4.005441</td><td>5.385023</td></tr>\n",
       "</tbody>\n",
       "</table>\n"
      ],
      "text/latex": [
       "A data.frame: 1 × 238\n",
       "\\begin{tabular}{r|lllllllllllllllllllll}\n",
       "  & GSM1297076 & GSM1297077 & GSM1297078 & GSM1297079 & GSM1297080 & GSM1297081 & GSM1297082 & GSM1297083 & GSM1297084 & GSM1297085 & ⋯ & GSM1297304 & GSM1297305 & GSM1297306 & GSM1297307 & GSM1297308 & GSM1297309 & GSM1297310 & GSM1297311 & GSM1297312 & GSM1297313\\\\\n",
       "  & <dbl> & <dbl> & <dbl> & <dbl> & <dbl> & <dbl> & <dbl> & <dbl> & <dbl> & <dbl> & ⋯ & <dbl> & <dbl> & <dbl> & <dbl> & <dbl> & <dbl> & <dbl> & <dbl> & <dbl> & <dbl>\\\\\n",
       "\\hline\n",
       "\t79066 & 6.391043 & 7.798494 & 5.072013 & 7.196961 & 6.798004 & 9.259991 & 5.799467 & 6.866773 & 3.912495 & 7.193734 & ⋯ & 7.867408 & 9.985494 & 4.70194 & 6.216463 & 4.815819 & 4.557891 & 5.632451 & 6.549177 & 4.005441 & 5.385023\\\\\n",
       "\\end{tabular}\n"
      ],
      "text/markdown": [
       "\n",
       "A data.frame: 1 × 238\n",
       "\n",
       "| <!--/--> | GSM1297076 &lt;dbl&gt; | GSM1297077 &lt;dbl&gt; | GSM1297078 &lt;dbl&gt; | GSM1297079 &lt;dbl&gt; | GSM1297080 &lt;dbl&gt; | GSM1297081 &lt;dbl&gt; | GSM1297082 &lt;dbl&gt; | GSM1297083 &lt;dbl&gt; | GSM1297084 &lt;dbl&gt; | GSM1297085 &lt;dbl&gt; | ⋯ ⋯ | GSM1297304 &lt;dbl&gt; | GSM1297305 &lt;dbl&gt; | GSM1297306 &lt;dbl&gt; | GSM1297307 &lt;dbl&gt; | GSM1297308 &lt;dbl&gt; | GSM1297309 &lt;dbl&gt; | GSM1297310 &lt;dbl&gt; | GSM1297311 &lt;dbl&gt; | GSM1297312 &lt;dbl&gt; | GSM1297313 &lt;dbl&gt; |\n",
       "|---|---|---|---|---|---|---|---|---|---|---|---|---|---|---|---|---|---|---|---|---|---|\n",
       "| 79066 | 6.391043 | 7.798494 | 5.072013 | 7.196961 | 6.798004 | 9.259991 | 5.799467 | 6.866773 | 3.912495 | 7.193734 | ⋯ | 7.867408 | 9.985494 | 4.70194 | 6.216463 | 4.815819 | 4.557891 | 5.632451 | 6.549177 | 4.005441 | 5.385023 |\n",
       "\n"
      ],
      "text/plain": [
       "      GSM1297076 GSM1297077 GSM1297078 GSM1297079 GSM1297080 GSM1297081\n",
       "79066 6.391043   7.798494   5.072013   7.196961   6.798004   9.259991  \n",
       "      GSM1297082 GSM1297083 GSM1297084 GSM1297085 ⋯ GSM1297304 GSM1297305\n",
       "79066 5.799467   6.866773   3.912495   7.193734   ⋯ 7.867408   9.985494  \n",
       "      GSM1297306 GSM1297307 GSM1297308 GSM1297309 GSM1297310 GSM1297311\n",
       "79066 4.70194    6.216463   4.815819   4.557891   5.632451   6.549177  \n",
       "      GSM1297312 GSM1297313\n",
       "79066 4.005441   5.385023  "
      ]
     },
     "metadata": {},
     "output_type": "display_data"
    }
   ],
   "source": [
    "TTF1 = expr[49101,]\n",
    "TTF1\n",
    "PTEN=TTF1"
   ]
  },
  {
   "cell_type": "code",
   "execution_count": 105,
   "metadata": {},
   "outputs": [
    {
     "data": {
      "image/png": "[encoded data removed]",
      "text/plain": [
       "plot without title"
      ]
     },
     "metadata": {
      "image/png": {
       "height": 420,
       "width": 420
      }
     },
     "output_type": "display_data"
    }
   ],
   "source": [
    "TTF1.clinical_data=clinical_data[match(phe1$patient,clinical_data$sample),]\n",
    "TTF1.cl=as.numeric(TTF1[match(phe1$sample,colnames(expr))])\n",
    "TTF1.clinical_data$gene = ifelse( TTF1.cl  > median( TTF1.cl ),'high','low')\n",
    "sfit3=survfit(Surv(OS.time, OS)~gene, data=TTF1.clinical_data)\n",
    "survminer::ggsurvplot(sfit3,pval =TRUE, data = TTF1.clinical_data, risk.table = TRUE) + ggplot2::labs(title=\"TTF1\")"
   ]
  },
  {
   "cell_type": "code",
   "execution_count": 87,
   "metadata": {},
   "outputs": [
    {
     "data": {
      "text/plain": [
       "R version 4.1.2 (2021-11-01)\n",
       "Platform: x86_64-pc-linux-gnu (64-bit)\n",
       "Running under: Debian GNU/Linux 10 (buster)\n",
       "\n",
       "Matrix products: default\n",
       "BLAS:   /usr/lib/x86_64-linux-gnu/blas/libblas.so.3.8.0\n",
       "LAPACK: /usr/lib/x86_64-linux-gnu/lapack/liblapack.so.3.8.0\n",
       "\n",
       "locale:\n",
       " [1] LC_CTYPE=en_US.UTF-8          LC_NUMERIC=C                 \n",
       " [3] LC_TIME=en_US.UTF-8           LC_COLLATE=en_US.UTF-8       \n",
       " [5] LC_MONETARY=en_US.UTF-8       LC_MESSAGES=en_US.UTF-8      \n",
       " [7] LC_PAPER=en_US.UTF-8          LC_NAME=en_US.UTF-8          \n",
       " [9] LC_ADDRESS=en_US.UTF-8        LC_TELEPHONE=en_US.UTF-8     \n",
       "[11] LC_MEASUREMENT=en_US.UTF-8    LC_IDENTIFICATION=en_US.UTF-8\n",
       "\n",
       "attached base packages:\n",
       "[1] stats     graphics  grDevices utils     datasets  methods   base     \n",
       "\n",
       "other attached packages:\n",
       "[1] survival_3.3-1      GEOquery_2.62.2     Biobase_2.54.0     \n",
       "[4] BiocGenerics_0.40.0 AnnoProbe_0.1.6    \n",
       "\n",
       "loaded via a namespace (and not attached):\n",
       " [1] ggtext_0.1.1       RColorBrewer_1.1-3 repr_1.1.4         tools_4.1.2       \n",
       " [5] backports_1.4.1    utf8_1.2.2         R6_2.5.1           DT_0.23           \n",
       " [9] DBI_1.1.2          colorspace_2.0-3   tidyselect_1.1.2   gridExtra_2.3     \n",
       "[13] curl_4.3.2         compiler_4.1.2     cli_3.3.0          Cairo_1.5-15      \n",
       "[17] xml2_1.3.3         labeling_0.4.2     scales_1.2.0       survMisc_0.5.6    \n",
       "[21] readr_2.1.2        pbdZMQ_0.3-7       stringr_1.4.0      digest_0.6.29     \n",
       "[25] R.utils_2.11.0     base64enc_0.1-3    pkgconfig_2.0.3    htmltools_0.5.2   \n",
       "[29] fastmap_1.1.0      limma_3.50.3       htmlwidgets_1.5.4  rlang_1.0.2       \n",
       "[33] generics_0.1.2     farver_2.1.0       zoo_1.8-10         jsonlite_1.8.0    \n",
       "[37] dplyr_1.0.9        xlsx_0.6.5         car_3.0-13         R.oo_1.24.0       \n",
       "[41] magrittr_2.0.3     Matrix_1.4-1       Rcpp_1.0.8.3       IRkernel_1.3      \n",
       "[45] munsell_0.5.0      fansi_1.0.3        abind_1.4-5        lifecycle_1.0.1   \n",
       "[49] R.methodsS3_1.8.1  stringi_1.7.6      carData_3.0-5      grid_4.1.2        \n",
       "[53] crayon_1.5.1       survminer_0.4.9    lattice_0.20-45    IRdisplay_1.1     \n",
       "[57] splines_4.1.2      gridtext_0.1.4     xlsxjars_0.6.1     hms_1.1.1         \n",
       "[61] knitr_1.39         pillar_1.7.0       ggpubr_0.4.0       uuid_1.1-0        \n",
       "[65] markdown_1.1       ggsignif_0.6.3     glue_1.6.2         evaluate_0.15     \n",
       "[69] data.table_1.14.2  vctrs_0.4.1        tzdb_0.3.0         gtable_0.3.0      \n",
       "[73] purrr_0.3.4        tidyr_1.2.0        km.ci_0.5-6        assertthat_0.2.1  \n",
       "[77] ggplot2_3.3.6      xfun_0.31          xtable_1.8-4       broom_0.8.0       \n",
       "[81] rstatix_0.7.0      tibble_3.1.7       pheatmap_1.0.12    rJava_1.0-6       \n",
       "[85] KMsurv_0.1-5       ellipsis_0.3.2    "
      ]
     },
     "metadata": {},
     "output_type": "display_data"
    }
   ],
   "source": [
    "sessionInfo()"
   ]
  },
  {
   "cell_type": "code",
   "execution_count": null,
   "metadata": {},
   "outputs": [],
   "source": []
  }
 ],
 "metadata": {
  "kernelspec": {
   "display_name": "R",
   "language": "R",
   "name": "ir"
  },
  "language_info": {
   "codemirror_mode": "r",
   "file_extension": ".r",
   "mimetype": "text/x-r-source",
   "name": "R",
   "pygments_lexer": "r",
   "version": "4.1.2"
  }
 },
 "nbformat": 4,
 "nbformat_minor": 4
}
